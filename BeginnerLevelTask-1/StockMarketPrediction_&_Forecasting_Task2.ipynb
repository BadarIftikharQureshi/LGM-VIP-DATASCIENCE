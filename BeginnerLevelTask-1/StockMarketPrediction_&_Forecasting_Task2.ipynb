{
  "nbformat": 4,
  "nbformat_minor": 0,
  "metadata": {
    "colab": {
      "name": "StockMarketPrediction & Forecasting_Task2.ipynb",
      "provenance": [],
      "collapsed_sections": [],
      "toc_visible": true
    },
    "kernelspec": {
      "name": "python3",
      "display_name": "Python 3"
    },
    "language_info": {
      "name": "python"
    }
  },
  "cells": [
    {
      "cell_type": "markdown",
      "source": [
        "# Author : BADAR IFTIKHAR\n",
        "### LETSGROWMORE  \n",
        "### LGM VIP JANUARY-2022\n",
        "### BEGINNER LEVEL TASK 1\n",
        "### TASK 2 PROJECT :\n",
        "### StockMarketPrediction & Forecasting"
      ],
      "metadata": {
        "id": "bPFlv7A2lTjL"
      }
    },
    {
      "cell_type": "markdown",
      "source": [
        "# StockMarketPrediction & Forecasting"
      ],
      "metadata": {
        "id": "3z6SAYNhlS-U"
      }
    },
    {
      "cell_type": "markdown",
      "source": [
        "### Importing libraries"
      ],
      "metadata": {
        "id": "y_X8EVArlSZn"
      }
    },
    {
      "cell_type": "code",
      "execution_count": null,
      "metadata": {
        "id": "wlK4i3K8a2i4"
      },
      "outputs": [],
      "source": [
        "import math\n",
        "import numpy as np\n",
        "import matplotlib.pyplot as plt\n",
        "import pandas as pd\n",
        "import pandas_datareader as pdr\n",
        "import tensorflow as tf"
      ]
    },
    {
      "cell_type": "markdown",
      "source": [
        "### Importing the Dataset"
      ],
      "metadata": {
        "id": "H7XG_-zKlUCf"
      }
    },
    {
      "cell_type": "code",
      "source": [
        "df = pd.read_csv(\"https://raw.githubusercontent.com/mwitiderrick/stockprice/master/NSE-TATAGLOBAL.csv\")"
      ],
      "metadata": {
        "id": "e1ibWTgMbC9M"
      },
      "execution_count": null,
      "outputs": []
    },
    {
      "cell_type": "markdown",
      "source": [
        "### Understanding the Dataset"
      ],
      "metadata": {
        "id": "XWw4E-IclTff"
      }
    },
    {
      "cell_type": "code",
      "source": [
        "df.head()"
      ],
      "metadata": {
        "colab": {
          "base_uri": "https://localhost:8080/",
          "height": 206
        },
        "id": "B8n2-hPcbIUY",
        "outputId": "1db1b7d4-2e5b-4666-ba64-fb547d982e6f"
      },
      "execution_count": null,
      "outputs": [
        {
          "output_type": "execute_result",
          "data": {
            "text/html": [
              "\n",
              "  <div id=\"df-127948a8-db14-4ae3-ab47-c9690e7a40b8\">\n",
              "    <div class=\"colab-df-container\">\n",
              "      <div>\n",
              "<style scoped>\n",
              "    .dataframe tbody tr th:only-of-type {\n",
              "        vertical-align: middle;\n",
              "    }\n",
              "\n",
              "    .dataframe tbody tr th {\n",
              "        vertical-align: top;\n",
              "    }\n",
              "\n",
              "    .dataframe thead th {\n",
              "        text-align: right;\n",
              "    }\n",
              "</style>\n",
              "<table border=\"1\" class=\"dataframe\">\n",
              "  <thead>\n",
              "    <tr style=\"text-align: right;\">\n",
              "      <th></th>\n",
              "      <th>Date</th>\n",
              "      <th>Open</th>\n",
              "      <th>High</th>\n",
              "      <th>Low</th>\n",
              "      <th>Last</th>\n",
              "      <th>Close</th>\n",
              "      <th>Total Trade Quantity</th>\n",
              "      <th>Turnover (Lacs)</th>\n",
              "    </tr>\n",
              "  </thead>\n",
              "  <tbody>\n",
              "    <tr>\n",
              "      <th>0</th>\n",
              "      <td>2018-09-28</td>\n",
              "      <td>234.05</td>\n",
              "      <td>235.95</td>\n",
              "      <td>230.20</td>\n",
              "      <td>233.50</td>\n",
              "      <td>233.75</td>\n",
              "      <td>3069914</td>\n",
              "      <td>7162.35</td>\n",
              "    </tr>\n",
              "    <tr>\n",
              "      <th>1</th>\n",
              "      <td>2018-09-27</td>\n",
              "      <td>234.55</td>\n",
              "      <td>236.80</td>\n",
              "      <td>231.10</td>\n",
              "      <td>233.80</td>\n",
              "      <td>233.25</td>\n",
              "      <td>5082859</td>\n",
              "      <td>11859.95</td>\n",
              "    </tr>\n",
              "    <tr>\n",
              "      <th>2</th>\n",
              "      <td>2018-09-26</td>\n",
              "      <td>240.00</td>\n",
              "      <td>240.00</td>\n",
              "      <td>232.50</td>\n",
              "      <td>235.00</td>\n",
              "      <td>234.25</td>\n",
              "      <td>2240909</td>\n",
              "      <td>5248.60</td>\n",
              "    </tr>\n",
              "    <tr>\n",
              "      <th>3</th>\n",
              "      <td>2018-09-25</td>\n",
              "      <td>233.30</td>\n",
              "      <td>236.75</td>\n",
              "      <td>232.00</td>\n",
              "      <td>236.25</td>\n",
              "      <td>236.10</td>\n",
              "      <td>2349368</td>\n",
              "      <td>5503.90</td>\n",
              "    </tr>\n",
              "    <tr>\n",
              "      <th>4</th>\n",
              "      <td>2018-09-24</td>\n",
              "      <td>233.55</td>\n",
              "      <td>239.20</td>\n",
              "      <td>230.75</td>\n",
              "      <td>234.00</td>\n",
              "      <td>233.30</td>\n",
              "      <td>3423509</td>\n",
              "      <td>7999.55</td>\n",
              "    </tr>\n",
              "  </tbody>\n",
              "</table>\n",
              "</div>\n",
              "      <button class=\"colab-df-convert\" onclick=\"convertToInteractive('df-127948a8-db14-4ae3-ab47-c9690e7a40b8')\"\n",
              "              title=\"Convert this dataframe to an interactive table.\"\n",
              "              style=\"display:none;\">\n",
              "        \n",
              "  <svg xmlns=\"http://www.w3.org/2000/svg\" height=\"24px\"viewBox=\"0 0 24 24\"\n",
              "       width=\"24px\">\n",
              "    <path d=\"M0 0h24v24H0V0z\" fill=\"none\"/>\n",
              "    <path d=\"M18.56 5.44l.94 2.06.94-2.06 2.06-.94-2.06-.94-.94-2.06-.94 2.06-2.06.94zm-11 1L8.5 8.5l.94-2.06 2.06-.94-2.06-.94L8.5 2.5l-.94 2.06-2.06.94zm10 10l.94 2.06.94-2.06 2.06-.94-2.06-.94-.94-2.06-.94 2.06-2.06.94z\"/><path d=\"M17.41 7.96l-1.37-1.37c-.4-.4-.92-.59-1.43-.59-.52 0-1.04.2-1.43.59L10.3 9.45l-7.72 7.72c-.78.78-.78 2.05 0 2.83L4 21.41c.39.39.9.59 1.41.59.51 0 1.02-.2 1.41-.59l7.78-7.78 2.81-2.81c.8-.78.8-2.07 0-2.86zM5.41 20L4 18.59l7.72-7.72 1.47 1.35L5.41 20z\"/>\n",
              "  </svg>\n",
              "      </button>\n",
              "      \n",
              "  <style>\n",
              "    .colab-df-container {\n",
              "      display:flex;\n",
              "      flex-wrap:wrap;\n",
              "      gap: 12px;\n",
              "    }\n",
              "\n",
              "    .colab-df-convert {\n",
              "      background-color: #E8F0FE;\n",
              "      border: none;\n",
              "      border-radius: 50%;\n",
              "      cursor: pointer;\n",
              "      display: none;\n",
              "      fill: #1967D2;\n",
              "      height: 32px;\n",
              "      padding: 0 0 0 0;\n",
              "      width: 32px;\n",
              "    }\n",
              "\n",
              "    .colab-df-convert:hover {\n",
              "      background-color: #E2EBFA;\n",
              "      box-shadow: 0px 1px 2px rgba(60, 64, 67, 0.3), 0px 1px 3px 1px rgba(60, 64, 67, 0.15);\n",
              "      fill: #174EA6;\n",
              "    }\n",
              "\n",
              "    [theme=dark] .colab-df-convert {\n",
              "      background-color: #3B4455;\n",
              "      fill: #D2E3FC;\n",
              "    }\n",
              "\n",
              "    [theme=dark] .colab-df-convert:hover {\n",
              "      background-color: #434B5C;\n",
              "      box-shadow: 0px 1px 3px 1px rgba(0, 0, 0, 0.15);\n",
              "      filter: drop-shadow(0px 1px 2px rgba(0, 0, 0, 0.3));\n",
              "      fill: #FFFFFF;\n",
              "    }\n",
              "  </style>\n",
              "\n",
              "      <script>\n",
              "        const buttonEl =\n",
              "          document.querySelector('#df-127948a8-db14-4ae3-ab47-c9690e7a40b8 button.colab-df-convert');\n",
              "        buttonEl.style.display =\n",
              "          google.colab.kernel.accessAllowed ? 'block' : 'none';\n",
              "\n",
              "        async function convertToInteractive(key) {\n",
              "          const element = document.querySelector('#df-127948a8-db14-4ae3-ab47-c9690e7a40b8');\n",
              "          const dataTable =\n",
              "            await google.colab.kernel.invokeFunction('convertToInteractive',\n",
              "                                                     [key], {});\n",
              "          if (!dataTable) return;\n",
              "\n",
              "          const docLinkHtml = 'Like what you see? Visit the ' +\n",
              "            '<a target=\"_blank\" href=https://colab.research.google.com/notebooks/data_table.ipynb>data table notebook</a>'\n",
              "            + ' to learn more about interactive tables.';\n",
              "          element.innerHTML = '';\n",
              "          dataTable['output_type'] = 'display_data';\n",
              "          await google.colab.output.renderOutput(dataTable, element);\n",
              "          const docLink = document.createElement('div');\n",
              "          docLink.innerHTML = docLinkHtml;\n",
              "          element.appendChild(docLink);\n",
              "        }\n",
              "      </script>\n",
              "    </div>\n",
              "  </div>\n",
              "  "
            ],
            "text/plain": [
              "         Date    Open    High  ...   Close  Total Trade Quantity  Turnover (Lacs)\n",
              "0  2018-09-28  234.05  235.95  ...  233.75               3069914          7162.35\n",
              "1  2018-09-27  234.55  236.80  ...  233.25               5082859         11859.95\n",
              "2  2018-09-26  240.00  240.00  ...  234.25               2240909          5248.60\n",
              "3  2018-09-25  233.30  236.75  ...  236.10               2349368          5503.90\n",
              "4  2018-09-24  233.55  239.20  ...  233.30               3423509          7999.55\n",
              "\n",
              "[5 rows x 8 columns]"
            ]
          },
          "metadata": {},
          "execution_count": 3
        }
      ]
    },
    {
      "cell_type": "code",
      "source": [
        "df.tail()"
      ],
      "metadata": {
        "colab": {
          "base_uri": "https://localhost:8080/",
          "height": 206
        },
        "id": "wJV_nuHVbQ4t",
        "outputId": "c32abdee-e5a8-4b7f-ca18-8f51c750cc6b"
      },
      "execution_count": null,
      "outputs": [
        {
          "output_type": "execute_result",
          "data": {
            "text/html": [
              "\n",
              "  <div id=\"df-b0354192-d39f-48e4-957b-f65950459c5c\">\n",
              "    <div class=\"colab-df-container\">\n",
              "      <div>\n",
              "<style scoped>\n",
              "    .dataframe tbody tr th:only-of-type {\n",
              "        vertical-align: middle;\n",
              "    }\n",
              "\n",
              "    .dataframe tbody tr th {\n",
              "        vertical-align: top;\n",
              "    }\n",
              "\n",
              "    .dataframe thead th {\n",
              "        text-align: right;\n",
              "    }\n",
              "</style>\n",
              "<table border=\"1\" class=\"dataframe\">\n",
              "  <thead>\n",
              "    <tr style=\"text-align: right;\">\n",
              "      <th></th>\n",
              "      <th>Date</th>\n",
              "      <th>Open</th>\n",
              "      <th>High</th>\n",
              "      <th>Low</th>\n",
              "      <th>Last</th>\n",
              "      <th>Close</th>\n",
              "      <th>Total Trade Quantity</th>\n",
              "      <th>Turnover (Lacs)</th>\n",
              "    </tr>\n",
              "  </thead>\n",
              "  <tbody>\n",
              "    <tr>\n",
              "      <th>2030</th>\n",
              "      <td>2010-07-27</td>\n",
              "      <td>117.6</td>\n",
              "      <td>119.50</td>\n",
              "      <td>112.00</td>\n",
              "      <td>118.80</td>\n",
              "      <td>118.65</td>\n",
              "      <td>586100</td>\n",
              "      <td>694.98</td>\n",
              "    </tr>\n",
              "    <tr>\n",
              "      <th>2031</th>\n",
              "      <td>2010-07-26</td>\n",
              "      <td>120.1</td>\n",
              "      <td>121.00</td>\n",
              "      <td>117.10</td>\n",
              "      <td>117.10</td>\n",
              "      <td>117.60</td>\n",
              "      <td>658440</td>\n",
              "      <td>780.01</td>\n",
              "    </tr>\n",
              "    <tr>\n",
              "      <th>2032</th>\n",
              "      <td>2010-07-23</td>\n",
              "      <td>121.8</td>\n",
              "      <td>121.95</td>\n",
              "      <td>120.25</td>\n",
              "      <td>120.35</td>\n",
              "      <td>120.65</td>\n",
              "      <td>281312</td>\n",
              "      <td>340.31</td>\n",
              "    </tr>\n",
              "    <tr>\n",
              "      <th>2033</th>\n",
              "      <td>2010-07-22</td>\n",
              "      <td>120.3</td>\n",
              "      <td>122.00</td>\n",
              "      <td>120.25</td>\n",
              "      <td>120.75</td>\n",
              "      <td>120.90</td>\n",
              "      <td>293312</td>\n",
              "      <td>355.17</td>\n",
              "    </tr>\n",
              "    <tr>\n",
              "      <th>2034</th>\n",
              "      <td>2010-07-21</td>\n",
              "      <td>122.1</td>\n",
              "      <td>123.00</td>\n",
              "      <td>121.05</td>\n",
              "      <td>121.10</td>\n",
              "      <td>121.55</td>\n",
              "      <td>658666</td>\n",
              "      <td>803.56</td>\n",
              "    </tr>\n",
              "  </tbody>\n",
              "</table>\n",
              "</div>\n",
              "      <button class=\"colab-df-convert\" onclick=\"convertToInteractive('df-b0354192-d39f-48e4-957b-f65950459c5c')\"\n",
              "              title=\"Convert this dataframe to an interactive table.\"\n",
              "              style=\"display:none;\">\n",
              "        \n",
              "  <svg xmlns=\"http://www.w3.org/2000/svg\" height=\"24px\"viewBox=\"0 0 24 24\"\n",
              "       width=\"24px\">\n",
              "    <path d=\"M0 0h24v24H0V0z\" fill=\"none\"/>\n",
              "    <path d=\"M18.56 5.44l.94 2.06.94-2.06 2.06-.94-2.06-.94-.94-2.06-.94 2.06-2.06.94zm-11 1L8.5 8.5l.94-2.06 2.06-.94-2.06-.94L8.5 2.5l-.94 2.06-2.06.94zm10 10l.94 2.06.94-2.06 2.06-.94-2.06-.94-.94-2.06-.94 2.06-2.06.94z\"/><path d=\"M17.41 7.96l-1.37-1.37c-.4-.4-.92-.59-1.43-.59-.52 0-1.04.2-1.43.59L10.3 9.45l-7.72 7.72c-.78.78-.78 2.05 0 2.83L4 21.41c.39.39.9.59 1.41.59.51 0 1.02-.2 1.41-.59l7.78-7.78 2.81-2.81c.8-.78.8-2.07 0-2.86zM5.41 20L4 18.59l7.72-7.72 1.47 1.35L5.41 20z\"/>\n",
              "  </svg>\n",
              "      </button>\n",
              "      \n",
              "  <style>\n",
              "    .colab-df-container {\n",
              "      display:flex;\n",
              "      flex-wrap:wrap;\n",
              "      gap: 12px;\n",
              "    }\n",
              "\n",
              "    .colab-df-convert {\n",
              "      background-color: #E8F0FE;\n",
              "      border: none;\n",
              "      border-radius: 50%;\n",
              "      cursor: pointer;\n",
              "      display: none;\n",
              "      fill: #1967D2;\n",
              "      height: 32px;\n",
              "      padding: 0 0 0 0;\n",
              "      width: 32px;\n",
              "    }\n",
              "\n",
              "    .colab-df-convert:hover {\n",
              "      background-color: #E2EBFA;\n",
              "      box-shadow: 0px 1px 2px rgba(60, 64, 67, 0.3), 0px 1px 3px 1px rgba(60, 64, 67, 0.15);\n",
              "      fill: #174EA6;\n",
              "    }\n",
              "\n",
              "    [theme=dark] .colab-df-convert {\n",
              "      background-color: #3B4455;\n",
              "      fill: #D2E3FC;\n",
              "    }\n",
              "\n",
              "    [theme=dark] .colab-df-convert:hover {\n",
              "      background-color: #434B5C;\n",
              "      box-shadow: 0px 1px 3px 1px rgba(0, 0, 0, 0.15);\n",
              "      filter: drop-shadow(0px 1px 2px rgba(0, 0, 0, 0.3));\n",
              "      fill: #FFFFFF;\n",
              "    }\n",
              "  </style>\n",
              "\n",
              "      <script>\n",
              "        const buttonEl =\n",
              "          document.querySelector('#df-b0354192-d39f-48e4-957b-f65950459c5c button.colab-df-convert');\n",
              "        buttonEl.style.display =\n",
              "          google.colab.kernel.accessAllowed ? 'block' : 'none';\n",
              "\n",
              "        async function convertToInteractive(key) {\n",
              "          const element = document.querySelector('#df-b0354192-d39f-48e4-957b-f65950459c5c');\n",
              "          const dataTable =\n",
              "            await google.colab.kernel.invokeFunction('convertToInteractive',\n",
              "                                                     [key], {});\n",
              "          if (!dataTable) return;\n",
              "\n",
              "          const docLinkHtml = 'Like what you see? Visit the ' +\n",
              "            '<a target=\"_blank\" href=https://colab.research.google.com/notebooks/data_table.ipynb>data table notebook</a>'\n",
              "            + ' to learn more about interactive tables.';\n",
              "          element.innerHTML = '';\n",
              "          dataTable['output_type'] = 'display_data';\n",
              "          await google.colab.output.renderOutput(dataTable, element);\n",
              "          const docLink = document.createElement('div');\n",
              "          docLink.innerHTML = docLinkHtml;\n",
              "          element.appendChild(docLink);\n",
              "        }\n",
              "      </script>\n",
              "    </div>\n",
              "  </div>\n",
              "  "
            ],
            "text/plain": [
              "            Date   Open    High  ...   Close  Total Trade Quantity  Turnover (Lacs)\n",
              "2030  2010-07-27  117.6  119.50  ...  118.65                586100           694.98\n",
              "2031  2010-07-26  120.1  121.00  ...  117.60                658440           780.01\n",
              "2032  2010-07-23  121.8  121.95  ...  120.65                281312           340.31\n",
              "2033  2010-07-22  120.3  122.00  ...  120.90                293312           355.17\n",
              "2034  2010-07-21  122.1  123.00  ...  121.55                658666           803.56\n",
              "\n",
              "[5 rows x 8 columns]"
            ]
          },
          "metadata": {},
          "execution_count": 4
        }
      ]
    },
    {
      "cell_type": "markdown",
      "source": [
        "### Sorting the dataset according to date"
      ],
      "metadata": {
        "id": "IaLNRGOMmKSg"
      }
    },
    {
      "cell_type": "code",
      "source": [
        "df = df.sort_values(by=['Date'])"
      ],
      "metadata": {
        "id": "NjMSwb58bXM7"
      },
      "execution_count": null,
      "outputs": []
    },
    {
      "cell_type": "code",
      "source": [
        "df.head()"
      ],
      "metadata": {
        "colab": {
          "base_uri": "https://localhost:8080/",
          "height": 206
        },
        "id": "uhrXR_CpbbJt",
        "outputId": "0f69e918-8478-4c04-c8eb-234e9c3155f4"
      },
      "execution_count": null,
      "outputs": [
        {
          "output_type": "execute_result",
          "data": {
            "text/html": [
              "\n",
              "  <div id=\"df-61592ada-ee39-49ca-8ee1-6c2c91a34c10\">\n",
              "    <div class=\"colab-df-container\">\n",
              "      <div>\n",
              "<style scoped>\n",
              "    .dataframe tbody tr th:only-of-type {\n",
              "        vertical-align: middle;\n",
              "    }\n",
              "\n",
              "    .dataframe tbody tr th {\n",
              "        vertical-align: top;\n",
              "    }\n",
              "\n",
              "    .dataframe thead th {\n",
              "        text-align: right;\n",
              "    }\n",
              "</style>\n",
              "<table border=\"1\" class=\"dataframe\">\n",
              "  <thead>\n",
              "    <tr style=\"text-align: right;\">\n",
              "      <th></th>\n",
              "      <th>Date</th>\n",
              "      <th>Open</th>\n",
              "      <th>High</th>\n",
              "      <th>Low</th>\n",
              "      <th>Last</th>\n",
              "      <th>Close</th>\n",
              "      <th>Total Trade Quantity</th>\n",
              "      <th>Turnover (Lacs)</th>\n",
              "    </tr>\n",
              "  </thead>\n",
              "  <tbody>\n",
              "    <tr>\n",
              "      <th>2034</th>\n",
              "      <td>2010-07-21</td>\n",
              "      <td>122.1</td>\n",
              "      <td>123.00</td>\n",
              "      <td>121.05</td>\n",
              "      <td>121.10</td>\n",
              "      <td>121.55</td>\n",
              "      <td>658666</td>\n",
              "      <td>803.56</td>\n",
              "    </tr>\n",
              "    <tr>\n",
              "      <th>2033</th>\n",
              "      <td>2010-07-22</td>\n",
              "      <td>120.3</td>\n",
              "      <td>122.00</td>\n",
              "      <td>120.25</td>\n",
              "      <td>120.75</td>\n",
              "      <td>120.90</td>\n",
              "      <td>293312</td>\n",
              "      <td>355.17</td>\n",
              "    </tr>\n",
              "    <tr>\n",
              "      <th>2032</th>\n",
              "      <td>2010-07-23</td>\n",
              "      <td>121.8</td>\n",
              "      <td>121.95</td>\n",
              "      <td>120.25</td>\n",
              "      <td>120.35</td>\n",
              "      <td>120.65</td>\n",
              "      <td>281312</td>\n",
              "      <td>340.31</td>\n",
              "    </tr>\n",
              "    <tr>\n",
              "      <th>2031</th>\n",
              "      <td>2010-07-26</td>\n",
              "      <td>120.1</td>\n",
              "      <td>121.00</td>\n",
              "      <td>117.10</td>\n",
              "      <td>117.10</td>\n",
              "      <td>117.60</td>\n",
              "      <td>658440</td>\n",
              "      <td>780.01</td>\n",
              "    </tr>\n",
              "    <tr>\n",
              "      <th>2030</th>\n",
              "      <td>2010-07-27</td>\n",
              "      <td>117.6</td>\n",
              "      <td>119.50</td>\n",
              "      <td>112.00</td>\n",
              "      <td>118.80</td>\n",
              "      <td>118.65</td>\n",
              "      <td>586100</td>\n",
              "      <td>694.98</td>\n",
              "    </tr>\n",
              "  </tbody>\n",
              "</table>\n",
              "</div>\n",
              "      <button class=\"colab-df-convert\" onclick=\"convertToInteractive('df-61592ada-ee39-49ca-8ee1-6c2c91a34c10')\"\n",
              "              title=\"Convert this dataframe to an interactive table.\"\n",
              "              style=\"display:none;\">\n",
              "        \n",
              "  <svg xmlns=\"http://www.w3.org/2000/svg\" height=\"24px\"viewBox=\"0 0 24 24\"\n",
              "       width=\"24px\">\n",
              "    <path d=\"M0 0h24v24H0V0z\" fill=\"none\"/>\n",
              "    <path d=\"M18.56 5.44l.94 2.06.94-2.06 2.06-.94-2.06-.94-.94-2.06-.94 2.06-2.06.94zm-11 1L8.5 8.5l.94-2.06 2.06-.94-2.06-.94L8.5 2.5l-.94 2.06-2.06.94zm10 10l.94 2.06.94-2.06 2.06-.94-2.06-.94-.94-2.06-.94 2.06-2.06.94z\"/><path d=\"M17.41 7.96l-1.37-1.37c-.4-.4-.92-.59-1.43-.59-.52 0-1.04.2-1.43.59L10.3 9.45l-7.72 7.72c-.78.78-.78 2.05 0 2.83L4 21.41c.39.39.9.59 1.41.59.51 0 1.02-.2 1.41-.59l7.78-7.78 2.81-2.81c.8-.78.8-2.07 0-2.86zM5.41 20L4 18.59l7.72-7.72 1.47 1.35L5.41 20z\"/>\n",
              "  </svg>\n",
              "      </button>\n",
              "      \n",
              "  <style>\n",
              "    .colab-df-container {\n",
              "      display:flex;\n",
              "      flex-wrap:wrap;\n",
              "      gap: 12px;\n",
              "    }\n",
              "\n",
              "    .colab-df-convert {\n",
              "      background-color: #E8F0FE;\n",
              "      border: none;\n",
              "      border-radius: 50%;\n",
              "      cursor: pointer;\n",
              "      display: none;\n",
              "      fill: #1967D2;\n",
              "      height: 32px;\n",
              "      padding: 0 0 0 0;\n",
              "      width: 32px;\n",
              "    }\n",
              "\n",
              "    .colab-df-convert:hover {\n",
              "      background-color: #E2EBFA;\n",
              "      box-shadow: 0px 1px 2px rgba(60, 64, 67, 0.3), 0px 1px 3px 1px rgba(60, 64, 67, 0.15);\n",
              "      fill: #174EA6;\n",
              "    }\n",
              "\n",
              "    [theme=dark] .colab-df-convert {\n",
              "      background-color: #3B4455;\n",
              "      fill: #D2E3FC;\n",
              "    }\n",
              "\n",
              "    [theme=dark] .colab-df-convert:hover {\n",
              "      background-color: #434B5C;\n",
              "      box-shadow: 0px 1px 3px 1px rgba(0, 0, 0, 0.15);\n",
              "      filter: drop-shadow(0px 1px 2px rgba(0, 0, 0, 0.3));\n",
              "      fill: #FFFFFF;\n",
              "    }\n",
              "  </style>\n",
              "\n",
              "      <script>\n",
              "        const buttonEl =\n",
              "          document.querySelector('#df-61592ada-ee39-49ca-8ee1-6c2c91a34c10 button.colab-df-convert');\n",
              "        buttonEl.style.display =\n",
              "          google.colab.kernel.accessAllowed ? 'block' : 'none';\n",
              "\n",
              "        async function convertToInteractive(key) {\n",
              "          const element = document.querySelector('#df-61592ada-ee39-49ca-8ee1-6c2c91a34c10');\n",
              "          const dataTable =\n",
              "            await google.colab.kernel.invokeFunction('convertToInteractive',\n",
              "                                                     [key], {});\n",
              "          if (!dataTable) return;\n",
              "\n",
              "          const docLinkHtml = 'Like what you see? Visit the ' +\n",
              "            '<a target=\"_blank\" href=https://colab.research.google.com/notebooks/data_table.ipynb>data table notebook</a>'\n",
              "            + ' to learn more about interactive tables.';\n",
              "          element.innerHTML = '';\n",
              "          dataTable['output_type'] = 'display_data';\n",
              "          await google.colab.output.renderOutput(dataTable, element);\n",
              "          const docLink = document.createElement('div');\n",
              "          docLink.innerHTML = docLinkHtml;\n",
              "          element.appendChild(docLink);\n",
              "        }\n",
              "      </script>\n",
              "    </div>\n",
              "  </div>\n",
              "  "
            ],
            "text/plain": [
              "            Date   Open    High  ...   Close  Total Trade Quantity  Turnover (Lacs)\n",
              "2034  2010-07-21  122.1  123.00  ...  121.55                658666           803.56\n",
              "2033  2010-07-22  120.3  122.00  ...  120.90                293312           355.17\n",
              "2032  2010-07-23  121.8  121.95  ...  120.65                281312           340.31\n",
              "2031  2010-07-26  120.1  121.00  ...  117.60                658440           780.01\n",
              "2030  2010-07-27  117.6  119.50  ...  118.65                586100           694.98\n",
              "\n",
              "[5 rows x 8 columns]"
            ]
          },
          "metadata": {},
          "execution_count": 6
        }
      ]
    },
    {
      "cell_type": "code",
      "source": [
        "df.tail()"
      ],
      "metadata": {
        "colab": {
          "base_uri": "https://localhost:8080/",
          "height": 206
        },
        "id": "hUibgYl5b1El",
        "outputId": "ddcb1fcf-281b-4fc0-a7cf-b7380285ea92"
      },
      "execution_count": null,
      "outputs": [
        {
          "output_type": "execute_result",
          "data": {
            "text/html": [
              "\n",
              "  <div id=\"df-6f30eac4-108f-438d-b99c-963f9fefbd99\">\n",
              "    <div class=\"colab-df-container\">\n",
              "      <div>\n",
              "<style scoped>\n",
              "    .dataframe tbody tr th:only-of-type {\n",
              "        vertical-align: middle;\n",
              "    }\n",
              "\n",
              "    .dataframe tbody tr th {\n",
              "        vertical-align: top;\n",
              "    }\n",
              "\n",
              "    .dataframe thead th {\n",
              "        text-align: right;\n",
              "    }\n",
              "</style>\n",
              "<table border=\"1\" class=\"dataframe\">\n",
              "  <thead>\n",
              "    <tr style=\"text-align: right;\">\n",
              "      <th></th>\n",
              "      <th>Date</th>\n",
              "      <th>Open</th>\n",
              "      <th>High</th>\n",
              "      <th>Low</th>\n",
              "      <th>Last</th>\n",
              "      <th>Close</th>\n",
              "      <th>Total Trade Quantity</th>\n",
              "      <th>Turnover (Lacs)</th>\n",
              "    </tr>\n",
              "  </thead>\n",
              "  <tbody>\n",
              "    <tr>\n",
              "      <th>4</th>\n",
              "      <td>2018-09-24</td>\n",
              "      <td>233.55</td>\n",
              "      <td>239.20</td>\n",
              "      <td>230.75</td>\n",
              "      <td>234.00</td>\n",
              "      <td>233.30</td>\n",
              "      <td>3423509</td>\n",
              "      <td>7999.55</td>\n",
              "    </tr>\n",
              "    <tr>\n",
              "      <th>3</th>\n",
              "      <td>2018-09-25</td>\n",
              "      <td>233.30</td>\n",
              "      <td>236.75</td>\n",
              "      <td>232.00</td>\n",
              "      <td>236.25</td>\n",
              "      <td>236.10</td>\n",
              "      <td>2349368</td>\n",
              "      <td>5503.90</td>\n",
              "    </tr>\n",
              "    <tr>\n",
              "      <th>2</th>\n",
              "      <td>2018-09-26</td>\n",
              "      <td>240.00</td>\n",
              "      <td>240.00</td>\n",
              "      <td>232.50</td>\n",
              "      <td>235.00</td>\n",
              "      <td>234.25</td>\n",
              "      <td>2240909</td>\n",
              "      <td>5248.60</td>\n",
              "    </tr>\n",
              "    <tr>\n",
              "      <th>1</th>\n",
              "      <td>2018-09-27</td>\n",
              "      <td>234.55</td>\n",
              "      <td>236.80</td>\n",
              "      <td>231.10</td>\n",
              "      <td>233.80</td>\n",
              "      <td>233.25</td>\n",
              "      <td>5082859</td>\n",
              "      <td>11859.95</td>\n",
              "    </tr>\n",
              "    <tr>\n",
              "      <th>0</th>\n",
              "      <td>2018-09-28</td>\n",
              "      <td>234.05</td>\n",
              "      <td>235.95</td>\n",
              "      <td>230.20</td>\n",
              "      <td>233.50</td>\n",
              "      <td>233.75</td>\n",
              "      <td>3069914</td>\n",
              "      <td>7162.35</td>\n",
              "    </tr>\n",
              "  </tbody>\n",
              "</table>\n",
              "</div>\n",
              "      <button class=\"colab-df-convert\" onclick=\"convertToInteractive('df-6f30eac4-108f-438d-b99c-963f9fefbd99')\"\n",
              "              title=\"Convert this dataframe to an interactive table.\"\n",
              "              style=\"display:none;\">\n",
              "        \n",
              "  <svg xmlns=\"http://www.w3.org/2000/svg\" height=\"24px\"viewBox=\"0 0 24 24\"\n",
              "       width=\"24px\">\n",
              "    <path d=\"M0 0h24v24H0V0z\" fill=\"none\"/>\n",
              "    <path d=\"M18.56 5.44l.94 2.06.94-2.06 2.06-.94-2.06-.94-.94-2.06-.94 2.06-2.06.94zm-11 1L8.5 8.5l.94-2.06 2.06-.94-2.06-.94L8.5 2.5l-.94 2.06-2.06.94zm10 10l.94 2.06.94-2.06 2.06-.94-2.06-.94-.94-2.06-.94 2.06-2.06.94z\"/><path d=\"M17.41 7.96l-1.37-1.37c-.4-.4-.92-.59-1.43-.59-.52 0-1.04.2-1.43.59L10.3 9.45l-7.72 7.72c-.78.78-.78 2.05 0 2.83L4 21.41c.39.39.9.59 1.41.59.51 0 1.02-.2 1.41-.59l7.78-7.78 2.81-2.81c.8-.78.8-2.07 0-2.86zM5.41 20L4 18.59l7.72-7.72 1.47 1.35L5.41 20z\"/>\n",
              "  </svg>\n",
              "      </button>\n",
              "      \n",
              "  <style>\n",
              "    .colab-df-container {\n",
              "      display:flex;\n",
              "      flex-wrap:wrap;\n",
              "      gap: 12px;\n",
              "    }\n",
              "\n",
              "    .colab-df-convert {\n",
              "      background-color: #E8F0FE;\n",
              "      border: none;\n",
              "      border-radius: 50%;\n",
              "      cursor: pointer;\n",
              "      display: none;\n",
              "      fill: #1967D2;\n",
              "      height: 32px;\n",
              "      padding: 0 0 0 0;\n",
              "      width: 32px;\n",
              "    }\n",
              "\n",
              "    .colab-df-convert:hover {\n",
              "      background-color: #E2EBFA;\n",
              "      box-shadow: 0px 1px 2px rgba(60, 64, 67, 0.3), 0px 1px 3px 1px rgba(60, 64, 67, 0.15);\n",
              "      fill: #174EA6;\n",
              "    }\n",
              "\n",
              "    [theme=dark] .colab-df-convert {\n",
              "      background-color: #3B4455;\n",
              "      fill: #D2E3FC;\n",
              "    }\n",
              "\n",
              "    [theme=dark] .colab-df-convert:hover {\n",
              "      background-color: #434B5C;\n",
              "      box-shadow: 0px 1px 3px 1px rgba(0, 0, 0, 0.15);\n",
              "      filter: drop-shadow(0px 1px 2px rgba(0, 0, 0, 0.3));\n",
              "      fill: #FFFFFF;\n",
              "    }\n",
              "  </style>\n",
              "\n",
              "      <script>\n",
              "        const buttonEl =\n",
              "          document.querySelector('#df-6f30eac4-108f-438d-b99c-963f9fefbd99 button.colab-df-convert');\n",
              "        buttonEl.style.display =\n",
              "          google.colab.kernel.accessAllowed ? 'block' : 'none';\n",
              "\n",
              "        async function convertToInteractive(key) {\n",
              "          const element = document.querySelector('#df-6f30eac4-108f-438d-b99c-963f9fefbd99');\n",
              "          const dataTable =\n",
              "            await google.colab.kernel.invokeFunction('convertToInteractive',\n",
              "                                                     [key], {});\n",
              "          if (!dataTable) return;\n",
              "\n",
              "          const docLinkHtml = 'Like what you see? Visit the ' +\n",
              "            '<a target=\"_blank\" href=https://colab.research.google.com/notebooks/data_table.ipynb>data table notebook</a>'\n",
              "            + ' to learn more about interactive tables.';\n",
              "          element.innerHTML = '';\n",
              "          dataTable['output_type'] = 'display_data';\n",
              "          await google.colab.output.renderOutput(dataTable, element);\n",
              "          const docLink = document.createElement('div');\n",
              "          docLink.innerHTML = docLinkHtml;\n",
              "          element.appendChild(docLink);\n",
              "        }\n",
              "      </script>\n",
              "    </div>\n",
              "  </div>\n",
              "  "
            ],
            "text/plain": [
              "         Date    Open    High  ...   Close  Total Trade Quantity  Turnover (Lacs)\n",
              "4  2018-09-24  233.55  239.20  ...  233.30               3423509          7999.55\n",
              "3  2018-09-25  233.30  236.75  ...  236.10               2349368          5503.90\n",
              "2  2018-09-26  240.00  240.00  ...  234.25               2240909          5248.60\n",
              "1  2018-09-27  234.55  236.80  ...  233.25               5082859         11859.95\n",
              "0  2018-09-28  234.05  235.95  ...  233.75               3069914          7162.35\n",
              "\n",
              "[5 rows x 8 columns]"
            ]
          },
          "metadata": {},
          "execution_count": 7
        }
      ]
    },
    {
      "cell_type": "markdown",
      "source": [
        "### Exploring the dataset"
      ],
      "metadata": {
        "id": "_jLkgtkvmOC4"
      }
    },
    {
      "cell_type": "code",
      "source": [
        "df.info()"
      ],
      "metadata": {
        "colab": {
          "base_uri": "https://localhost:8080/"
        },
        "id": "Vk-lz9F2b31l",
        "outputId": "cc3a65d5-2823-44fc-ca16-6059e7485367"
      },
      "execution_count": null,
      "outputs": [
        {
          "output_type": "stream",
          "name": "stdout",
          "text": [
            "<class 'pandas.core.frame.DataFrame'>\n",
            "Int64Index: 2035 entries, 2034 to 0\n",
            "Data columns (total 8 columns):\n",
            " #   Column                Non-Null Count  Dtype  \n",
            "---  ------                --------------  -----  \n",
            " 0   Date                  2035 non-null   object \n",
            " 1   Open                  2035 non-null   float64\n",
            " 2   High                  2035 non-null   float64\n",
            " 3   Low                   2035 non-null   float64\n",
            " 4   Last                  2035 non-null   float64\n",
            " 5   Close                 2035 non-null   float64\n",
            " 6   Total Trade Quantity  2035 non-null   int64  \n",
            " 7   Turnover (Lacs)       2035 non-null   float64\n",
            "dtypes: float64(6), int64(1), object(1)\n",
            "memory usage: 143.1+ KB\n"
          ]
        }
      ]
    },
    {
      "cell_type": "markdown",
      "source": [
        "### Setting the cloumn \"Close\" as the index for prediction"
      ],
      "metadata": {
        "id": "OGCZwSQzmf0k"
      }
    },
    {
      "cell_type": "code",
      "source": [
        "df = df.reset_index()['Close']"
      ],
      "metadata": {
        "id": "e8pK4fnIb_Ed"
      },
      "execution_count": null,
      "outputs": []
    },
    {
      "cell_type": "markdown",
      "source": [
        "### Plotting the data"
      ],
      "metadata": {
        "id": "o_IfXdSNmpf0"
      }
    },
    {
      "cell_type": "code",
      "source": [
        "plt.figure(figsize=(16, 7))\n",
        "plt.plot(df)\n",
        "plt.show()"
      ],
      "metadata": {
        "colab": {
          "base_uri": "https://localhost:8080/",
          "height": 428
        },
        "id": "PJo1krMtcDqN",
        "outputId": "1b09bf47-0ef6-403c-c0ee-87a5f2401e90"
      },
      "execution_count": null,
      "outputs": [
        {
          "output_type": "display_data",
          "data": {
            "image/png": "[encoded data removed]",
            "text/plain": [
              "<Figure size 1152x504 with 1 Axes>"
            ]
          },
          "metadata": {
            "needs_background": "light"
          }
        }
      ]
    },
    {
      "cell_type": "markdown",
      "source": [
        "### Applying feature scaling to the data"
      ],
      "metadata": {
        "id": "wCl_qziEmyf_"
      }
    },
    {
      "cell_type": "code",
      "source": [
        "from sklearn.preprocessing import MinMaxScaler\n",
        "sc = MinMaxScaler(feature_range = (0, 1))\n",
        "df = sc.fit_transform(np.array(df).reshape(-1,1))"
      ],
      "metadata": {
        "id": "3VZJoeO0cG8L"
      },
      "execution_count": null,
      "outputs": []
    },
    {
      "cell_type": "code",
      "source": [
        "print(df)"
      ],
      "metadata": {
        "colab": {
          "base_uri": "https://localhost:8080/"
        },
        "id": "eDIuCKwacLHk",
        "outputId": "27d83519-8c6b-44f4-9d85-05065b41c008"
      },
      "execution_count": null,
      "outputs": [
        {
          "output_type": "stream",
          "name": "stdout",
          "text": [
            "[[0.16584967]\n",
            " [0.16319444]\n",
            " [0.1621732 ]\n",
            " ...\n",
            " [0.62622549]\n",
            " [0.62214052]\n",
            " [0.62418301]]\n"
          ]
        }
      ]
    },
    {
      "cell_type": "markdown",
      "source": [
        "### Splitting into training and testing set"
      ],
      "metadata": {
        "id": "5Gzz_pH6m5Hs"
      }
    },
    {
      "cell_type": "code",
      "source": [
        "train_size = int(len(df) * 0.80)\n",
        "test_size = len(df) - train_size\n",
        "trainSet, testSet = df[0:train_size, :], df[train_size:len(df), :1]"
      ],
      "metadata": {
        "id": "0-rg3Ts9cOMw"
      },
      "execution_count": null,
      "outputs": []
    },
    {
      "cell_type": "markdown",
      "source": [
        "### Converting the training and testing data to a dataset array"
      ],
      "metadata": {
        "id": "RyuP74TWnAgC"
      }
    },
    {
      "cell_type": "code",
      "source": [
        "def datasetGenerator(data, length):\n",
        "\tarr1, arr2 = [], []\n",
        "\tfor i in range(len(data)-length-1):  \n",
        "\t\tarr1.append(data[i:(i + length), 0])\n",
        "\t\tarr2.append(data[i + length, 0])\n",
        "\treturn np.array(arr1), np.array(arr2)"
      ],
      "metadata": {
        "id": "G6mnOAnkcS-_"
      },
      "execution_count": null,
      "outputs": []
    },
    {
      "cell_type": "code",
      "source": [
        "X_train, Y_train = datasetGenerator(trainSet, 100)\n",
        "X_test, Y_test = datasetGenerator(testSet, 100)"
      ],
      "metadata": {
        "id": "fYuIkUe7caMw"
      },
      "execution_count": null,
      "outputs": []
    },
    {
      "cell_type": "code",
      "source": [
        "print(X_train)"
      ],
      "metadata": {
        "colab": {
          "base_uri": "https://localhost:8080/"
        },
        "id": "JtrN9CLScdiY",
        "outputId": "dceab45b-2e23-473b-9b2e-323dada87446"
      },
      "execution_count": null,
      "outputs": [
        {
          "output_type": "stream",
          "name": "stdout",
          "text": [
            "[[0.16584967 0.16319444 0.1621732  ... 0.14011438 0.13848039 0.12479575]\n",
            " [0.16319444 0.1621732  0.14971405 ... 0.13848039 0.12479575 0.12254902]\n",
            " [0.1621732  0.14971405 0.15400327 ... 0.12479575 0.12254902 0.13010621]\n",
            " ...\n",
            " [0.25020425 0.23999183 0.22201797 ... 0.20220588 0.19566993 0.20077614]\n",
            " [0.23999183 0.22201797 0.23080065 ... 0.19566993 0.20077614 0.23161765]\n",
            " [0.22201797 0.23080065 0.22896242 ... 0.20077614 0.23161765 0.24877451]]\n"
          ]
        }
      ]
    },
    {
      "cell_type": "code",
      "source": [
        "print(Y_train)"
      ],
      "metadata": {
        "colab": {
          "base_uri": "https://localhost:8080/"
        },
        "id": "Ggq6Wo4Wcgyb",
        "outputId": "c42a2e63-9b8f-44a5-dace-9b5d4318aece"
      },
      "execution_count": null,
      "outputs": [
        {
          "output_type": "stream",
          "name": "stdout",
          "text": [
            "[0.12254902 0.13010621 0.13541667 ... 0.23161765 0.24877451 0.25245098]\n"
          ]
        }
      ]
    },
    {
      "cell_type": "code",
      "source": [
        "print(X_test)"
      ],
      "metadata": {
        "colab": {
          "base_uri": "https://localhost:8080/"
        },
        "id": "tVktYjyLckK1",
        "outputId": "d66c545b-c6e3-4dbd-d7ad-44864476995d"
      },
      "execution_count": null,
      "outputs": [
        {
          "output_type": "stream",
          "name": "stdout",
          "text": [
            "[[0.26633987 0.25714869 0.25735294 ... 0.28860294 0.28227124 0.30718954]\n",
            " [0.25714869 0.25735294 0.24918301 ... 0.28227124 0.30718954 0.29575163]\n",
            " [0.25735294 0.24918301 0.24611928 ... 0.30718954 0.29575163 0.31372549]\n",
            " ...\n",
            " [0.86519608 0.84027778 0.84497549 ... 0.62888072 0.62765523 0.62234477]\n",
            " [0.84027778 0.84497549 0.87111928 ... 0.62765523 0.62234477 0.63378268]\n",
            " [0.84497549 0.87111928 0.85273693 ... 0.62234477 0.63378268 0.62622549]]\n"
          ]
        }
      ]
    },
    {
      "cell_type": "code",
      "source": [
        "print(Y_test)"
      ],
      "metadata": {
        "colab": {
          "base_uri": "https://localhost:8080/"
        },
        "id": "lJwNND9IcnEE",
        "outputId": "b438ed1e-a564-48b1-d015-49a13c10b962"
      },
      "execution_count": null,
      "outputs": [
        {
          "output_type": "stream",
          "name": "stdout",
          "text": [
            "[0.29575163 0.31372549 0.3496732  0.36172386 0.37908497 0.38582516\n",
            " 0.3809232  0.39236111 0.37908497 0.38480392 0.3690768  0.37275327\n",
            " 0.36376634 0.36846405 0.37275327 0.35723039 0.36029412 0.3619281\n",
            " 0.35355392 0.34375    0.3500817  0.34926471 0.36560458 0.34742647\n",
            " 0.3314951  0.3065768  0.34007353 0.3995098  0.46119281 0.44791667\n",
            " 0.46343954 0.47058824 0.44485294 0.47222222 0.4628268  0.45894608\n",
            " 0.44689542 0.47426471 0.47814542 0.47651144 0.45894608 0.47283497\n",
            " 0.51062092 0.50980392 0.51450163 0.52410131 0.53553922 0.51613562\n",
            " 0.53553922 0.52941176 0.54064542 0.55249183 0.54227941 0.53615196\n",
            " 0.49101307 0.47263072 0.50531046 0.48059641 0.49918301 0.51000817\n",
            " 0.5126634  0.50653595 0.5249183  0.52553105 0.52022059 0.52083333\n",
            " 0.52471405 0.53533497 0.52818627 0.52553105 0.52839052 0.51409314\n",
            " 0.50510621 0.49897876 0.52573529 0.50796569 0.52634804 0.57005719\n",
            " 0.59579248 0.59640523 0.59987745 0.59395425 0.58966503 0.62806373\n",
            " 0.58843954 0.58639706 0.65155229 0.63398693 0.62683824 0.67708333\n",
            " 0.6942402  0.69852941 0.7310049  0.79227941 0.78513072 0.78880719\n",
            " 0.79187092 0.80780229 0.80269608 0.84477124 0.81392974 0.84211601\n",
            " 0.82761438 0.80923203 0.8129085  0.79248366 0.82945261 0.84763072\n",
            " 0.8880719  0.84497549 0.83129085 0.8306781  0.84109477 0.85743464\n",
            " 0.89746732 0.89828431 0.89542484 0.90604575 0.91911765 0.91748366\n",
            " 0.92177288 0.96180556 0.94750817 0.94035948 0.94056373 0.94485294\n",
            " 0.94771242 0.96670752 0.95731209 0.95241013 0.94914216 1.\n",
            " 0.98876634 0.96180556 0.9501634  0.91707516 0.92892157 0.93096405\n",
            " 0.92422386 0.9121732  0.9121732  0.90216503 0.91115196 0.85661765\n",
            " 0.84722222 0.79207516 0.78492647 0.75878268 0.81372549 0.81495098\n",
            " 0.80596405 0.83394608 0.82107843 0.80923203 0.79513889 0.76388889\n",
            " 0.74305556 0.75837418 0.74019608 0.77512255 0.78656046 0.79268791\n",
            " 0.79473039 0.79207516 0.79534314 0.78921569 0.76776961 0.78615196\n",
            " 0.76552288 0.79697712 0.8057598  0.80698529 0.81147876 0.78206699\n",
            " 0.73386438 0.73978758 0.74448529 0.72671569 0.72283497 0.74040033\n",
            " 0.74693627 0.72630719 0.80065359 0.79187092 0.77328431 0.78451797\n",
            " 0.78329248 0.80412582 0.79473039 0.7879902  0.7879902  0.79473039\n",
            " 0.81168301 0.81699346 0.82986111 0.83843954 0.83884804 0.82781863\n",
            " 0.82598039 0.85028595 0.85886438 0.86254085 0.88480392 0.86519608\n",
            " 0.84027778 0.84497549 0.87111928 0.85273693 0.86213235 0.83455882\n",
            " 0.84375    0.71466503 0.66053922 0.65420752 0.68035131 0.6689134\n",
            " 0.66421569 0.67892157 0.69138072 0.70894608 0.72263072 0.73406863\n",
            " 0.72120098 0.74979575 0.7689951  0.74468954 0.7120098  0.74673203\n",
            " 0.75490196 0.76041667 0.75980392 0.74652778 0.76245915 0.77062908\n",
            " 0.80412582 0.78104575 0.79411765 0.76021242 0.73488562 0.72406046\n",
            " 0.73999183 0.74979575 0.76143791 0.75428922 0.74754902 0.76960784\n",
            " 0.7495915  0.81719771 0.80208333 0.77736928 0.75714869 0.79370915\n",
            " 0.79166667 0.77144608 0.75265523 0.72691993 0.6629902  0.68198529\n",
            " 0.64419935 0.62152778 0.6439951  0.66319444 0.67544935 0.63705065\n",
            " 0.64603758 0.65890523 0.65870098 0.67790033 0.63194444 0.63112745\n",
            " 0.62785948 0.64767157 0.63991013 0.63480392 0.63868464 0.62336601\n",
            " 0.62745098 0.63970588 0.64705882 0.66196895 0.67075163 0.65196078\n",
            " 0.63112745 0.61294935 0.6376634  0.62254902 0.62745098 0.63337418\n",
            " 0.62642974 0.63623366 0.58312908 0.57781863 0.57230392 0.58006536\n",
            " 0.57618464 0.55167484 0.57883987 0.625      0.63582516 0.62949346\n",
            " 0.62888072 0.62765523 0.62234477 0.63378268 0.62622549 0.62214052]\n"
          ]
        }
      ]
    },
    {
      "cell_type": "markdown",
      "source": [
        "### Changing column order of inputs to [Samples, Length, Features]"
      ],
      "metadata": {
        "id": "JnRdDLKxnI9U"
      }
    },
    {
      "cell_type": "code",
      "source": [
        "X_train = X_train.reshape(X_train.shape[0], X_train.shape[1], 1)\n",
        "X_test = X_test.reshape(X_test.shape[0], X_test.shape[1], 1)"
      ],
      "metadata": {
        "id": "RrQ971zlcpqU"
      },
      "execution_count": null,
      "outputs": []
    },
    {
      "cell_type": "markdown",
      "source": [
        "### Generating the LSTM model"
      ],
      "metadata": {
        "id": "bjwlY_v8nVWG"
      }
    },
    {
      "cell_type": "code",
      "source": [
        "from tensorflow.keras.models import Sequential\n",
        "from tensorflow.keras.layers import Dense\n",
        "from tensorflow.keras.layers import LSTM\n",
        "\n",
        "model = Sequential()\n",
        "model.add(LSTM(50, return_sequences = True, input_shape = (100, 1)))\n",
        "model.add(LSTM(50, return_sequences = True))\n",
        "model.add(LSTM(50))\n",
        "model.add(Dense(1))\n",
        "model.compile(loss = 'mean_squared_error', optimizer = 'adam')"
      ],
      "metadata": {
        "id": "nP0LP4pfctyg"
      },
      "execution_count": null,
      "outputs": []
    },
    {
      "cell_type": "code",
      "source": [
        "model.fit(X_train, Y_train, validation_data = (X_test,Y_test), epochs = 100, batch_size = 64, verbose = 1)"
      ],
      "metadata": {
        "colab": {
          "base_uri": "https://localhost:8080/"
        },
        "id": "VmmtmAXPcyHl",
        "outputId": "62db6f45-a313-4065-b134-e64c64800520"
      },
      "execution_count": null,
      "outputs": [
        {
          "output_type": "stream",
          "name": "stdout",
          "text": [
            "Epoch 1/100\n",
            "24/24 [==============================] - 12s 259ms/step - loss: 0.0091 - val_loss: 0.0213\n",
            "Epoch 2/100\n",
            "24/24 [==============================] - 5s 203ms/step - loss: 0.0016 - val_loss: 0.0157\n",
            "Epoch 3/100\n",
            "24/24 [==============================] - 5s 192ms/step - loss: 8.8289e-04 - val_loss: 0.0071\n",
            "Epoch 4/100\n",
            "24/24 [==============================] - 5s 196ms/step - loss: 8.0194e-04 - val_loss: 0.0079\n",
            "Epoch 5/100\n",
            "24/24 [==============================] - 5s 193ms/step - loss: 7.7640e-04 - val_loss: 0.0085\n",
            "Epoch 6/100\n",
            "24/24 [==============================] - 5s 197ms/step - loss: 7.8221e-04 - val_loss: 0.0082\n",
            "Epoch 7/100\n",
            "24/24 [==============================] - 5s 201ms/step - loss: 7.3672e-04 - val_loss: 0.0046\n",
            "Epoch 8/100\n",
            "24/24 [==============================] - 5s 203ms/step - loss: 6.7460e-04 - val_loss: 0.0058\n",
            "Epoch 9/100\n",
            "24/24 [==============================] - 5s 197ms/step - loss: 6.4758e-04 - val_loss: 0.0048\n",
            "Epoch 10/100\n",
            "24/24 [==============================] - 5s 203ms/step - loss: 6.1362e-04 - val_loss: 0.0044\n",
            "Epoch 11/100\n",
            "24/24 [==============================] - 5s 194ms/step - loss: 5.7455e-04 - val_loss: 0.0063\n",
            "Epoch 12/100\n",
            "24/24 [==============================] - 5s 195ms/step - loss: 5.5706e-04 - val_loss: 0.0088\n",
            "Epoch 13/100\n",
            "24/24 [==============================] - 5s 196ms/step - loss: 5.5576e-04 - val_loss: 0.0059\n",
            "Epoch 14/100\n",
            "24/24 [==============================] - 5s 194ms/step - loss: 5.1272e-04 - val_loss: 0.0087\n",
            "Epoch 15/100\n",
            "24/24 [==============================] - 5s 203ms/step - loss: 4.9305e-04 - val_loss: 0.0094\n",
            "Epoch 16/100\n",
            "24/24 [==============================] - 5s 202ms/step - loss: 5.0436e-04 - val_loss: 0.0099\n",
            "Epoch 17/100\n",
            "24/24 [==============================] - 5s 202ms/step - loss: 4.6249e-04 - val_loss: 0.0127\n",
            "Epoch 18/100\n",
            "24/24 [==============================] - 5s 200ms/step - loss: 4.5058e-04 - val_loss: 0.0115\n",
            "Epoch 19/100\n",
            "24/24 [==============================] - 5s 198ms/step - loss: 4.3320e-04 - val_loss: 0.0095\n",
            "Epoch 20/100\n",
            "24/24 [==============================] - 5s 199ms/step - loss: 4.2828e-04 - val_loss: 0.0128\n",
            "Epoch 21/100\n",
            "24/24 [==============================] - 5s 199ms/step - loss: 4.0457e-04 - val_loss: 0.0080\n",
            "Epoch 22/100\n",
            "24/24 [==============================] - 5s 201ms/step - loss: 4.0281e-04 - val_loss: 0.0053\n",
            "Epoch 23/100\n",
            "24/24 [==============================] - 5s 200ms/step - loss: 3.9209e-04 - val_loss: 0.0090\n",
            "Epoch 24/100\n",
            "24/24 [==============================] - 5s 199ms/step - loss: 3.7807e-04 - val_loss: 0.0093\n",
            "Epoch 25/100\n",
            "24/24 [==============================] - 5s 195ms/step - loss: 3.6544e-04 - val_loss: 0.0092\n",
            "Epoch 26/100\n",
            "24/24 [==============================] - 5s 194ms/step - loss: 3.4932e-04 - val_loss: 0.0090\n",
            "Epoch 27/100\n",
            "24/24 [==============================] - 5s 198ms/step - loss: 3.3033e-04 - val_loss: 0.0066\n",
            "Epoch 28/100\n",
            "24/24 [==============================] - 5s 193ms/step - loss: 3.2554e-04 - val_loss: 0.0057\n",
            "Epoch 29/100\n",
            "24/24 [==============================] - 5s 196ms/step - loss: 3.0680e-04 - val_loss: 0.0073\n",
            "Epoch 30/100\n",
            "24/24 [==============================] - 5s 198ms/step - loss: 3.0535e-04 - val_loss: 0.0068\n",
            "Epoch 31/100\n",
            "24/24 [==============================] - 5s 191ms/step - loss: 3.0122e-04 - val_loss: 0.0035\n",
            "Epoch 32/100\n",
            "24/24 [==============================] - 5s 197ms/step - loss: 3.3086e-04 - val_loss: 0.0038\n",
            "Epoch 33/100\n",
            "24/24 [==============================] - 5s 201ms/step - loss: 2.7081e-04 - val_loss: 0.0044\n",
            "Epoch 34/100\n",
            "24/24 [==============================] - 5s 194ms/step - loss: 2.6265e-04 - val_loss: 0.0039\n",
            "Epoch 35/100\n",
            "24/24 [==============================] - 5s 205ms/step - loss: 2.5615e-04 - val_loss: 0.0079\n",
            "Epoch 36/100\n",
            "24/24 [==============================] - 5s 198ms/step - loss: 2.4595e-04 - val_loss: 0.0061\n",
            "Epoch 37/100\n",
            "24/24 [==============================] - 5s 203ms/step - loss: 2.5637e-04 - val_loss: 0.0049\n",
            "Epoch 38/100\n",
            "24/24 [==============================] - 5s 203ms/step - loss: 2.4645e-04 - val_loss: 0.0043\n",
            "Epoch 39/100\n",
            "24/24 [==============================] - 5s 197ms/step - loss: 2.3494e-04 - val_loss: 0.0054\n",
            "Epoch 40/100\n",
            "24/24 [==============================] - 5s 202ms/step - loss: 2.1925e-04 - val_loss: 0.0031\n",
            "Epoch 41/100\n",
            "24/24 [==============================] - 5s 205ms/step - loss: 2.1798e-04 - val_loss: 0.0027\n",
            "Epoch 42/100\n",
            "24/24 [==============================] - 5s 196ms/step - loss: 2.3989e-04 - val_loss: 0.0046\n",
            "Epoch 43/100\n",
            "24/24 [==============================] - 5s 197ms/step - loss: 2.0889e-04 - val_loss: 0.0040\n",
            "Epoch 44/100\n",
            "24/24 [==============================] - 5s 198ms/step - loss: 2.2417e-04 - val_loss: 0.0071\n",
            "Epoch 45/100\n",
            "24/24 [==============================] - 5s 194ms/step - loss: 2.2867e-04 - val_loss: 0.0045\n",
            "Epoch 46/100\n",
            "24/24 [==============================] - 5s 200ms/step - loss: 2.0964e-04 - val_loss: 0.0047\n",
            "Epoch 47/100\n",
            "24/24 [==============================] - 5s 203ms/step - loss: 1.9996e-04 - val_loss: 0.0020\n",
            "Epoch 48/100\n",
            "24/24 [==============================] - 5s 204ms/step - loss: 1.8968e-04 - val_loss: 0.0035\n",
            "Epoch 49/100\n",
            "24/24 [==============================] - 5s 197ms/step - loss: 1.7795e-04 - val_loss: 0.0025\n",
            "Epoch 50/100\n",
            "24/24 [==============================] - 5s 197ms/step - loss: 1.9750e-04 - val_loss: 9.9216e-04\n",
            "Epoch 51/100\n",
            "24/24 [==============================] - 5s 195ms/step - loss: 1.9655e-04 - val_loss: 0.0028\n",
            "Epoch 52/100\n",
            "24/24 [==============================] - 5s 195ms/step - loss: 1.8039e-04 - val_loss: 0.0027\n",
            "Epoch 53/100\n",
            "24/24 [==============================] - 5s 197ms/step - loss: 1.8691e-04 - val_loss: 0.0020\n",
            "Epoch 54/100\n",
            "24/24 [==============================] - 5s 202ms/step - loss: 1.6437e-04 - val_loss: 0.0044\n",
            "Epoch 55/100\n",
            "24/24 [==============================] - 5s 197ms/step - loss: 1.6807e-04 - val_loss: 0.0034\n",
            "Epoch 56/100\n",
            "24/24 [==============================] - 5s 198ms/step - loss: 1.6843e-04 - val_loss: 0.0048\n",
            "Epoch 57/100\n",
            "24/24 [==============================] - 5s 198ms/step - loss: 1.5853e-04 - val_loss: 0.0041\n",
            "Epoch 58/100\n",
            "24/24 [==============================] - 5s 194ms/step - loss: 1.8795e-04 - val_loss: 0.0013\n",
            "Epoch 59/100\n",
            "24/24 [==============================] - 5s 195ms/step - loss: 1.9436e-04 - val_loss: 0.0022\n",
            "Epoch 60/100\n",
            "24/24 [==============================] - 5s 204ms/step - loss: 1.6430e-04 - val_loss: 0.0030\n",
            "Epoch 61/100\n",
            "24/24 [==============================] - 5s 205ms/step - loss: 1.5753e-04 - val_loss: 0.0017\n",
            "Epoch 62/100\n",
            "24/24 [==============================] - 5s 206ms/step - loss: 1.7537e-04 - val_loss: 0.0011\n",
            "Epoch 63/100\n",
            "24/24 [==============================] - 6s 237ms/step - loss: 1.5721e-04 - val_loss: 0.0031\n",
            "Epoch 64/100\n",
            "24/24 [==============================] - 6s 235ms/step - loss: 1.4856e-04 - val_loss: 0.0034\n",
            "Epoch 65/100\n",
            "24/24 [==============================] - 5s 195ms/step - loss: 1.5033e-04 - val_loss: 0.0031\n",
            "Epoch 66/100\n",
            "24/24 [==============================] - 5s 196ms/step - loss: 1.5980e-04 - val_loss: 0.0027\n",
            "Epoch 67/100\n",
            "24/24 [==============================] - 5s 193ms/step - loss: 1.3831e-04 - val_loss: 0.0024\n",
            "Epoch 68/100\n",
            "24/24 [==============================] - 5s 196ms/step - loss: 1.4441e-04 - val_loss: 0.0018\n",
            "Epoch 69/100\n",
            "24/24 [==============================] - 5s 191ms/step - loss: 1.4047e-04 - val_loss: 0.0031\n",
            "Epoch 70/100\n",
            "24/24 [==============================] - 5s 202ms/step - loss: 1.4962e-04 - val_loss: 0.0029\n",
            "Epoch 71/100\n",
            "24/24 [==============================] - 5s 197ms/step - loss: 1.4662e-04 - val_loss: 0.0014\n",
            "Epoch 72/100\n",
            "24/24 [==============================] - 5s 200ms/step - loss: 1.4252e-04 - val_loss: 0.0030\n",
            "Epoch 73/100\n",
            "24/24 [==============================] - 5s 193ms/step - loss: 1.3189e-04 - val_loss: 0.0022\n",
            "Epoch 74/100\n",
            "24/24 [==============================] - 5s 193ms/step - loss: 1.5267e-04 - val_loss: 0.0037\n",
            "Epoch 75/100\n",
            "24/24 [==============================] - 5s 194ms/step - loss: 1.3227e-04 - val_loss: 0.0028\n",
            "Epoch 76/100\n",
            "24/24 [==============================] - 5s 192ms/step - loss: 1.3211e-04 - val_loss: 0.0018\n",
            "Epoch 77/100\n",
            "24/24 [==============================] - 5s 197ms/step - loss: 1.2885e-04 - val_loss: 0.0016\n",
            "Epoch 78/100\n",
            "24/24 [==============================] - 5s 196ms/step - loss: 1.2911e-04 - val_loss: 0.0024\n",
            "Epoch 79/100\n",
            "24/24 [==============================] - 5s 197ms/step - loss: 1.3275e-04 - val_loss: 0.0023\n",
            "Epoch 80/100\n",
            "24/24 [==============================] - 5s 196ms/step - loss: 1.4607e-04 - val_loss: 0.0021\n",
            "Epoch 81/100\n",
            "24/24 [==============================] - 5s 196ms/step - loss: 1.4422e-04 - val_loss: 0.0015\n",
            "Epoch 82/100\n",
            "24/24 [==============================] - 5s 190ms/step - loss: 1.3414e-04 - val_loss: 0.0022\n",
            "Epoch 83/100\n",
            "24/24 [==============================] - 5s 192ms/step - loss: 1.3015e-04 - val_loss: 0.0027\n",
            "Epoch 84/100\n",
            "24/24 [==============================] - 5s 197ms/step - loss: 1.2776e-04 - val_loss: 0.0014\n",
            "Epoch 85/100\n",
            "24/24 [==============================] - 5s 203ms/step - loss: 1.4078e-04 - val_loss: 0.0016\n",
            "Epoch 86/100\n",
            "24/24 [==============================] - 5s 202ms/step - loss: 1.4664e-04 - val_loss: 0.0020\n",
            "Epoch 87/100\n",
            "24/24 [==============================] - 5s 192ms/step - loss: 1.3125e-04 - val_loss: 0.0023\n",
            "Epoch 88/100\n",
            "24/24 [==============================] - 5s 197ms/step - loss: 1.2435e-04 - val_loss: 0.0025\n",
            "Epoch 89/100\n",
            "24/24 [==============================] - 5s 196ms/step - loss: 1.4232e-04 - val_loss: 0.0034\n",
            "Epoch 90/100\n",
            "24/24 [==============================] - 5s 206ms/step - loss: 1.3016e-04 - val_loss: 0.0025\n",
            "Epoch 91/100\n",
            "24/24 [==============================] - 5s 201ms/step - loss: 1.3086e-04 - val_loss: 0.0023\n",
            "Epoch 92/100\n",
            "24/24 [==============================] - 5s 201ms/step - loss: 1.2611e-04 - val_loss: 0.0024\n",
            "Epoch 93/100\n",
            "24/24 [==============================] - 5s 194ms/step - loss: 1.3072e-04 - val_loss: 0.0024\n",
            "Epoch 94/100\n",
            "24/24 [==============================] - 5s 198ms/step - loss: 1.2464e-04 - val_loss: 0.0021\n",
            "Epoch 95/100\n",
            "24/24 [==============================] - 5s 204ms/step - loss: 1.2250e-04 - val_loss: 0.0015\n",
            "Epoch 96/100\n",
            "24/24 [==============================] - 5s 204ms/step - loss: 1.2355e-04 - val_loss: 0.0026\n",
            "Epoch 97/100\n",
            "24/24 [==============================] - 5s 200ms/step - loss: 1.2919e-04 - val_loss: 0.0022\n",
            "Epoch 98/100\n",
            "24/24 [==============================] - 5s 209ms/step - loss: 1.2837e-04 - val_loss: 0.0012\n",
            "Epoch 99/100\n",
            "24/24 [==============================] - 5s 201ms/step - loss: 1.3396e-04 - val_loss: 0.0022\n",
            "Epoch 100/100\n",
            "24/24 [==============================] - 5s 204ms/step - loss: 1.2608e-04 - val_loss: 0.0020\n"
          ]
        },
        {
          "output_type": "execute_result",
          "data": {
            "text/plain": [
              "<keras.callbacks.History at 0x7f575a2e8c10>"
            ]
          },
          "metadata": {},
          "execution_count": 22
        }
      ]
    },
    {
      "cell_type": "markdown",
      "source": [
        "### Making predictions using test data"
      ],
      "metadata": {
        "id": "MwYlh7bTnh39"
      }
    },
    {
      "cell_type": "code",
      "source": [
        "#train_pred = sc.inverse_transform(model.predict(X_train))\n",
        "test_pred = sc.inverse_transform(model.predict(X_test))"
      ],
      "metadata": {
        "id": "9FpG_lTXc04-"
      },
      "execution_count": null,
      "outputs": []
    },
    {
      "cell_type": "markdown",
      "source": [
        "### Calculating Root Mean Squared Error for test data and test predictions"
      ],
      "metadata": {
        "id": "ScqEBa7HnrtT"
      }
    },
    {
      "cell_type": "code",
      "source": [
        "from sklearn.metrics import mean_squared_error\n",
        "math.sqrt(mean_squared_error(Y_test, test_pred))"
      ],
      "metadata": {
        "colab": {
          "base_uri": "https://localhost:8080/"
        },
        "id": "d0XUwtzxc7m3",
        "outputId": "63a2d9df-23db-4b9e-fe01-734cf87b0500"
      },
      "execution_count": null,
      "outputs": [
        {
          "output_type": "execute_result",
          "data": {
            "text/plain": [
              "242.16734035131333"
            ]
          },
          "metadata": {},
          "execution_count": 25
        }
      ]
    },
    {
      "cell_type": "markdown",
      "source": [
        "### Plotting the test data predictions"
      ],
      "metadata": {
        "id": "iECSkB6sn17F"
      }
    },
    {
      "cell_type": "code",
      "source": [
        "look_back = 100\n",
        "\n",
        "#testPredPlot = np.empty_like(df)\n",
        "#testPredPlot[:, :] = np.nan\n",
        "#testPredPlot[look_back:len(train_pred) + look_back, :] = train_pred\n",
        "\n",
        "testPredPlot = np.empty_like(df)\n",
        "testPredPlot[:, :] = np.nan\n",
        "testPredPlot[len(X_train) + (look_back*2) + 1:len(df) - 1, :] = test_pred"
      ],
      "metadata": {
        "id": "ej-JF57Ec-O5"
      },
      "execution_count": null,
      "outputs": []
    },
    {
      "cell_type": "code",
      "source": [
        "plt.figure(figsize=(18, 7))\n",
        "plt.plot(sc.inverse_transform(df), label=\"Actual Values\")\n",
        "plt.plot(testPredPlot, label=\"Predicted Values\")\n",
        "plt.legend(loc=\"upper left\")\n",
        "plt.show()"
      ],
      "metadata": {
        "colab": {
          "base_uri": "https://localhost:8080/",
          "height": 399
        },
        "id": "cH8L22IUdCJJ",
        "outputId": "baafe873-4581-4ac8-b79c-5c5beb8d8f22"
      },
      "execution_count": null,
      "outputs": [
        {
          "output_type": "display_data",
          "data": {
            "image/png": "[encoded data removed]",
            "text/plain": [
              "<Figure size 1296x504 with 1 Axes>"
            ]
          },
          "metadata": {
            "needs_background": "light"
          }
        }
      ]
    },
    {
      "cell_type": "markdown",
      "source": [
        "### Using last 100 data values from test data to make prediction for the next 30 days"
      ],
      "metadata": {
        "id": "oAGRKBtHn-DM"
      }
    },
    {
      "cell_type": "code",
      "source": [
        "len(testSet)"
      ],
      "metadata": {
        "colab": {
          "base_uri": "https://localhost:8080/"
        },
        "id": "S__stj1OdFXq",
        "outputId": "c829c83a-43d4-4301-f74a-ae263fd7d3c2"
      },
      "execution_count": null,
      "outputs": [
        {
          "output_type": "execute_result",
          "data": {
            "text/plain": [
              "407"
            ]
          },
          "metadata": {},
          "execution_count": 49
        }
      ]
    },
    {
      "cell_type": "code",
      "source": [
        "pred_input = testSet[307:].reshape(1,-1)\n",
        "pred_input.shape"
      ],
      "metadata": {
        "colab": {
          "base_uri": "https://localhost:8080/"
        },
        "id": "ZMSebxT5dI8U",
        "outputId": "0d870f3e-e206-47a7-9ca2-73c6d3209440"
      },
      "execution_count": null,
      "outputs": [
        {
          "output_type": "execute_result",
          "data": {
            "text/plain": [
              "(1, 100)"
            ]
          },
          "metadata": {},
          "execution_count": 50
        }
      ]
    },
    {
      "cell_type": "code",
      "source": [
        "tmp = list(pred_input)\n",
        "tmp = tmp[0].tolist()"
      ],
      "metadata": {
        "id": "mGwrK_56dLno"
      },
      "execution_count": null,
      "outputs": []
    },
    {
      "cell_type": "code",
      "source": [
        "print(tmp)"
      ],
      "metadata": {
        "colab": {
          "base_uri": "https://localhost:8080/"
        },
        "id": "yLzHvwNidOUU",
        "outputId": "d58ff834-fbda-48c4-d8a9-9a4eeeeae5cf"
      },
      "execution_count": null,
      "outputs": [
        {
          "output_type": "stream",
          "name": "stdout",
          "text": [
            "[0.8527369281045751, 0.8621323529411764, 0.8345588235294117, 0.84375, 0.7146650326797386, 0.6605392156862745, 0.6542075163398693, 0.6803513071895424, 0.6689133986928104, 0.6642156862745099, 0.678921568627451, 0.6913807189542482, 0.7089460784313726, 0.7226307189542485, 0.7340686274509802, 0.7212009803921569, 0.749795751633987, 0.7689950980392157, 0.7446895424836601, 0.7120098039215685, 0.7467320261437909, 0.7549019607843137, 0.7604166666666667, 0.7598039215686274, 0.7465277777777777, 0.7624591503267975, 0.7706290849673203, 0.8041258169934642, 0.7810457516339868, 0.7941176470588236, 0.7602124183006536, 0.7348856209150327, 0.7240604575163399, 0.7399918300653596, 0.749795751633987, 0.7614379084967322, 0.7542892156862746, 0.7475490196078431, 0.769607843137255, 0.7495915032679739, 0.8171977124183007, 0.8020833333333335, 0.7773692810457518, 0.7571486928104576, 0.7937091503267975, 0.7916666666666667, 0.7714460784313726, 0.7526552287581698, 0.7269199346405228, 0.6629901960784313, 0.6819852941176472, 0.6441993464052288, 0.6215277777777778, 0.6439950980392156, 0.6631944444444445, 0.6754493464052289, 0.6370506535947713, 0.6460375816993464, 0.6589052287581699, 0.6587009803921569, 0.6779003267973858, 0.6319444444444445, 0.6311274509803921, 0.627859477124183, 0.647671568627451, 0.6399101307189542, 0.6348039215686274, 0.6386846405228759, 0.6233660130718954, 0.627450980392157, 0.6397058823529412, 0.6470588235294118, 0.661968954248366, 0.6707516339869282, 0.6519607843137255, 0.6311274509803921, 0.6129493464052288, 0.6376633986928105, 0.6225490196078431, 0.627450980392157, 0.6333741830065359, 0.6264297385620916, 0.6362336601307189, 0.5831290849673202, 0.5778186274509804, 0.5723039215686275, 0.5800653594771241, 0.5761846405228758, 0.5516748366013072, 0.5788398692810458, 0.625, 0.6358251633986928, 0.6294934640522877, 0.6288807189542484, 0.6276552287581699, 0.6223447712418301, 0.6337826797385621, 0.6262254901960784, 0.622140522875817, 0.6241830065359477]\n"
          ]
        }
      ]
    },
    {
      "cell_type": "markdown",
      "source": [
        "### Defining prediction function"
      ],
      "metadata": {
        "id": "jXV4tOwuoG_0"
      }
    },
    {
      "cell_type": "code",
      "source": [
        "output = []\n",
        "steps=100\n",
        "i = 0\n",
        "while (i < 30):\n",
        "    if(len(tmp) > 100):\n",
        "        pred_input = np.array(tmp[1:])\n",
        "        print(\"Day {} input {}\".format(i, pred_input))\n",
        "        pred_input = pred_input.reshape(1,-1)\n",
        "        pred_input = pred_input.reshape((1, steps, 1))\n",
        "        pred = model.predict(pred_input, verbose = 0)\n",
        "        print(\"Day {} output {}\".format(i, pred))\n",
        "        tmp.extend(pred[0].tolist())\n",
        "        tmp = tmp[1:]\n",
        "        output.extend(pred.tolist())\n",
        "        i = i + 1\n",
        "    else:\n",
        "        pred_input = pred_input.reshape((1, steps, 1))\n",
        "        pred = model.predict(pred_input, verbose = 0)\n",
        "        print(pred[0])\n",
        "        tmp.extend(pred[0].tolist())\n",
        "        print(len(tmp))\n",
        "        output.extend(pred.tolist())\n",
        "        i = i + 1\n",
        "\n",
        "print(output)"
      ],
      "metadata": {
        "colab": {
          "base_uri": "https://localhost:8080/"
        },
        "id": "h2VN7O_2dRUF",
        "outputId": "338d0f5b-0a76-4c14-bc0a-daf3987d4f73"
      },
      "execution_count": null,
      "outputs": [
        {
          "output_type": "stream",
          "name": "stdout",
          "text": [
            "[0.606703]\n",
            "101\n",
            "Day 1 input [0.86213235 0.83455882 0.84375    0.71466503 0.66053922 0.65420752\n",
            " 0.68035131 0.6689134  0.66421569 0.67892157 0.69138072 0.70894608\n",
            " 0.72263072 0.73406863 0.72120098 0.74979575 0.7689951  0.74468954\n",
            " 0.7120098  0.74673203 0.75490196 0.76041667 0.75980392 0.74652778\n",
            " 0.76245915 0.77062908 0.80412582 0.78104575 0.79411765 0.76021242\n",
            " 0.73488562 0.72406046 0.73999183 0.74979575 0.76143791 0.75428922\n",
            " 0.74754902 0.76960784 0.7495915  0.81719771 0.80208333 0.77736928\n",
            " 0.75714869 0.79370915 0.79166667 0.77144608 0.75265523 0.72691993\n",
            " 0.6629902  0.68198529 0.64419935 0.62152778 0.6439951  0.66319444\n",
            " 0.67544935 0.63705065 0.64603758 0.65890523 0.65870098 0.67790033\n",
            " 0.63194444 0.63112745 0.62785948 0.64767157 0.63991013 0.63480392\n",
            " 0.63868464 0.62336601 0.62745098 0.63970588 0.64705882 0.66196895\n",
            " 0.67075163 0.65196078 0.63112745 0.61294935 0.6376634  0.62254902\n",
            " 0.62745098 0.63337418 0.62642974 0.63623366 0.58312908 0.57781863\n",
            " 0.57230392 0.58006536 0.57618464 0.55167484 0.57883987 0.625\n",
            " 0.63582516 0.62949346 0.62888072 0.62765523 0.62234477 0.63378268\n",
            " 0.62622549 0.62214052 0.62418301 0.60670298]\n",
            "Day 1 output [[0.5786121]]\n",
            "Day 2 input [0.83455882 0.84375    0.71466503 0.66053922 0.65420752 0.68035131\n",
            " 0.6689134  0.66421569 0.67892157 0.69138072 0.70894608 0.72263072\n",
            " 0.73406863 0.72120098 0.74979575 0.7689951  0.74468954 0.7120098\n",
            " 0.74673203 0.75490196 0.76041667 0.75980392 0.74652778 0.76245915\n",
            " 0.77062908 0.80412582 0.78104575 0.79411765 0.76021242 0.73488562\n",
            " 0.72406046 0.73999183 0.74979575 0.76143791 0.75428922 0.74754902\n",
            " 0.76960784 0.7495915  0.81719771 0.80208333 0.77736928 0.75714869\n",
            " 0.79370915 0.79166667 0.77144608 0.75265523 0.72691993 0.6629902\n",
            " 0.68198529 0.64419935 0.62152778 0.6439951  0.66319444 0.67544935\n",
            " 0.63705065 0.64603758 0.65890523 0.65870098 0.67790033 0.63194444\n",
            " 0.63112745 0.62785948 0.64767157 0.63991013 0.63480392 0.63868464\n",
            " 0.62336601 0.62745098 0.63970588 0.64705882 0.66196895 0.67075163\n",
            " 0.65196078 0.63112745 0.61294935 0.6376634  0.62254902 0.62745098\n",
            " 0.63337418 0.62642974 0.63623366 0.58312908 0.57781863 0.57230392\n",
            " 0.58006536 0.57618464 0.55167484 0.57883987 0.625      0.63582516\n",
            " 0.62949346 0.62888072 0.62765523 0.62234477 0.63378268 0.62622549\n",
            " 0.62214052 0.62418301 0.60670298 0.57861209]\n",
            "Day 2 output [[0.5494477]]\n",
            "Day 3 input [0.84375    0.71466503 0.66053922 0.65420752 0.68035131 0.6689134\n",
            " 0.66421569 0.67892157 0.69138072 0.70894608 0.72263072 0.73406863\n",
            " 0.72120098 0.74979575 0.7689951  0.74468954 0.7120098  0.74673203\n",
            " 0.75490196 0.76041667 0.75980392 0.74652778 0.76245915 0.77062908\n",
            " 0.80412582 0.78104575 0.79411765 0.76021242 0.73488562 0.72406046\n",
            " 0.73999183 0.74979575 0.76143791 0.75428922 0.74754902 0.76960784\n",
            " 0.7495915  0.81719771 0.80208333 0.77736928 0.75714869 0.79370915\n",
            " 0.79166667 0.77144608 0.75265523 0.72691993 0.6629902  0.68198529\n",
            " 0.64419935 0.62152778 0.6439951  0.66319444 0.67544935 0.63705065\n",
            " 0.64603758 0.65890523 0.65870098 0.67790033 0.63194444 0.63112745\n",
            " 0.62785948 0.64767157 0.63991013 0.63480392 0.63868464 0.62336601\n",
            " 0.62745098 0.63970588 0.64705882 0.66196895 0.67075163 0.65196078\n",
            " 0.63112745 0.61294935 0.6376634  0.62254902 0.62745098 0.63337418\n",
            " 0.62642974 0.63623366 0.58312908 0.57781863 0.57230392 0.58006536\n",
            " 0.57618464 0.55167484 0.57883987 0.625      0.63582516 0.62949346\n",
            " 0.62888072 0.62765523 0.62234477 0.63378268 0.62622549 0.62214052\n",
            " 0.62418301 0.60670298 0.57861209 0.54944772]\n",
            "Day 3 output [[0.52462834]]\n",
            "Day 4 input [0.71466503 0.66053922 0.65420752 0.68035131 0.6689134  0.66421569\n",
            " 0.67892157 0.69138072 0.70894608 0.72263072 0.73406863 0.72120098\n",
            " 0.74979575 0.7689951  0.74468954 0.7120098  0.74673203 0.75490196\n",
            " 0.76041667 0.75980392 0.74652778 0.76245915 0.77062908 0.80412582\n",
            " 0.78104575 0.79411765 0.76021242 0.73488562 0.72406046 0.73999183\n",
            " 0.74979575 0.76143791 0.75428922 0.74754902 0.76960784 0.7495915\n",
            " 0.81719771 0.80208333 0.77736928 0.75714869 0.79370915 0.79166667\n",
            " 0.77144608 0.75265523 0.72691993 0.6629902  0.68198529 0.64419935\n",
            " 0.62152778 0.6439951  0.66319444 0.67544935 0.63705065 0.64603758\n",
            " 0.65890523 0.65870098 0.67790033 0.63194444 0.63112745 0.62785948\n",
            " 0.64767157 0.63991013 0.63480392 0.63868464 0.62336601 0.62745098\n",
            " 0.63970588 0.64705882 0.66196895 0.67075163 0.65196078 0.63112745\n",
            " 0.61294935 0.6376634  0.62254902 0.62745098 0.63337418 0.62642974\n",
            " 0.63623366 0.58312908 0.57781863 0.57230392 0.58006536 0.57618464\n",
            " 0.55167484 0.57883987 0.625      0.63582516 0.62949346 0.62888072\n",
            " 0.62765523 0.62234477 0.63378268 0.62622549 0.62214052 0.62418301\n",
            " 0.60670298 0.57861209 0.54944772 0.52462834]\n",
            "Day 4 output [[0.50413346]]\n",
            "Day 5 input [0.66053922 0.65420752 0.68035131 0.6689134  0.66421569 0.67892157\n",
            " 0.69138072 0.70894608 0.72263072 0.73406863 0.72120098 0.74979575\n",
            " 0.7689951  0.74468954 0.7120098  0.74673203 0.75490196 0.76041667\n",
            " 0.75980392 0.74652778 0.76245915 0.77062908 0.80412582 0.78104575\n",
            " 0.79411765 0.76021242 0.73488562 0.72406046 0.73999183 0.74979575\n",
            " 0.76143791 0.75428922 0.74754902 0.76960784 0.7495915  0.81719771\n",
            " 0.80208333 0.77736928 0.75714869 0.79370915 0.79166667 0.77144608\n",
            " 0.75265523 0.72691993 0.6629902  0.68198529 0.64419935 0.62152778\n",
            " 0.6439951  0.66319444 0.67544935 0.63705065 0.64603758 0.65890523\n",
            " 0.65870098 0.67790033 0.63194444 0.63112745 0.62785948 0.64767157\n",
            " 0.63991013 0.63480392 0.63868464 0.62336601 0.62745098 0.63970588\n",
            " 0.64705882 0.66196895 0.67075163 0.65196078 0.63112745 0.61294935\n",
            " 0.6376634  0.62254902 0.62745098 0.63337418 0.62642974 0.63623366\n",
            " 0.58312908 0.57781863 0.57230392 0.58006536 0.57618464 0.55167484\n",
            " 0.57883987 0.625      0.63582516 0.62949346 0.62888072 0.62765523\n",
            " 0.62234477 0.63378268 0.62622549 0.62214052 0.62418301 0.60670298\n",
            " 0.57861209 0.54944772 0.52462834 0.50413346]\n",
            "Day 5 output [[0.48666582]]\n",
            "Day 6 input [0.65420752 0.68035131 0.6689134  0.66421569 0.67892157 0.69138072\n",
            " 0.70894608 0.72263072 0.73406863 0.72120098 0.74979575 0.7689951\n",
            " 0.74468954 0.7120098  0.74673203 0.75490196 0.76041667 0.75980392\n",
            " 0.74652778 0.76245915 0.77062908 0.80412582 0.78104575 0.79411765\n",
            " 0.76021242 0.73488562 0.72406046 0.73999183 0.74979575 0.76143791\n",
            " 0.75428922 0.74754902 0.76960784 0.7495915  0.81719771 0.80208333\n",
            " 0.77736928 0.75714869 0.79370915 0.79166667 0.77144608 0.75265523\n",
            " 0.72691993 0.6629902  0.68198529 0.64419935 0.62152778 0.6439951\n",
            " 0.66319444 0.67544935 0.63705065 0.64603758 0.65890523 0.65870098\n",
            " 0.67790033 0.63194444 0.63112745 0.62785948 0.64767157 0.63991013\n",
            " 0.63480392 0.63868464 0.62336601 0.62745098 0.63970588 0.64705882\n",
            " 0.66196895 0.67075163 0.65196078 0.63112745 0.61294935 0.6376634\n",
            " 0.62254902 0.62745098 0.63337418 0.62642974 0.63623366 0.58312908\n",
            " 0.57781863 0.57230392 0.58006536 0.57618464 0.55167484 0.57883987\n",
            " 0.625      0.63582516 0.62949346 0.62888072 0.62765523 0.62234477\n",
            " 0.63378268 0.62622549 0.62214052 0.62418301 0.60670298 0.57861209\n",
            " 0.54944772 0.52462834 0.50413346 0.48666582]\n",
            "Day 6 output [[0.47132415]]\n",
            "Day 7 input [0.68035131 0.6689134  0.66421569 0.67892157 0.69138072 0.70894608\n",
            " 0.72263072 0.73406863 0.72120098 0.74979575 0.7689951  0.74468954\n",
            " 0.7120098  0.74673203 0.75490196 0.76041667 0.75980392 0.74652778\n",
            " 0.76245915 0.77062908 0.80412582 0.78104575 0.79411765 0.76021242\n",
            " 0.73488562 0.72406046 0.73999183 0.74979575 0.76143791 0.75428922\n",
            " 0.74754902 0.76960784 0.7495915  0.81719771 0.80208333 0.77736928\n",
            " 0.75714869 0.79370915 0.79166667 0.77144608 0.75265523 0.72691993\n",
            " 0.6629902  0.68198529 0.64419935 0.62152778 0.6439951  0.66319444\n",
            " 0.67544935 0.63705065 0.64603758 0.65890523 0.65870098 0.67790033\n",
            " 0.63194444 0.63112745 0.62785948 0.64767157 0.63991013 0.63480392\n",
            " 0.63868464 0.62336601 0.62745098 0.63970588 0.64705882 0.66196895\n",
            " 0.67075163 0.65196078 0.63112745 0.61294935 0.6376634  0.62254902\n",
            " 0.62745098 0.63337418 0.62642974 0.63623366 0.58312908 0.57781863\n",
            " 0.57230392 0.58006536 0.57618464 0.55167484 0.57883987 0.625\n",
            " 0.63582516 0.62949346 0.62888072 0.62765523 0.62234477 0.63378268\n",
            " 0.62622549 0.62214052 0.62418301 0.60670298 0.57861209 0.54944772\n",
            " 0.52462834 0.50413346 0.48666582 0.47132415]\n",
            "Day 7 output [[0.4578184]]\n",
            "Day 8 input [0.6689134  0.66421569 0.67892157 0.69138072 0.70894608 0.72263072\n",
            " 0.73406863 0.72120098 0.74979575 0.7689951  0.74468954 0.7120098\n",
            " 0.74673203 0.75490196 0.76041667 0.75980392 0.74652778 0.76245915\n",
            " 0.77062908 0.80412582 0.78104575 0.79411765 0.76021242 0.73488562\n",
            " 0.72406046 0.73999183 0.74979575 0.76143791 0.75428922 0.74754902\n",
            " 0.76960784 0.7495915  0.81719771 0.80208333 0.77736928 0.75714869\n",
            " 0.79370915 0.79166667 0.77144608 0.75265523 0.72691993 0.6629902\n",
            " 0.68198529 0.64419935 0.62152778 0.6439951  0.66319444 0.67544935\n",
            " 0.63705065 0.64603758 0.65890523 0.65870098 0.67790033 0.63194444\n",
            " 0.63112745 0.62785948 0.64767157 0.63991013 0.63480392 0.63868464\n",
            " 0.62336601 0.62745098 0.63970588 0.64705882 0.66196895 0.67075163\n",
            " 0.65196078 0.63112745 0.61294935 0.6376634  0.62254902 0.62745098\n",
            " 0.63337418 0.62642974 0.63623366 0.58312908 0.57781863 0.57230392\n",
            " 0.58006536 0.57618464 0.55167484 0.57883987 0.625      0.63582516\n",
            " 0.62949346 0.62888072 0.62765523 0.62234477 0.63378268 0.62622549\n",
            " 0.62214052 0.62418301 0.60670298 0.57861209 0.54944772 0.52462834\n",
            " 0.50413346 0.48666582 0.47132415 0.45781839]\n",
            "Day 8 output [[0.44615394]]\n",
            "Day 9 input [0.66421569 0.67892157 0.69138072 0.70894608 0.72263072 0.73406863\n",
            " 0.72120098 0.74979575 0.7689951  0.74468954 0.7120098  0.74673203\n",
            " 0.75490196 0.76041667 0.75980392 0.74652778 0.76245915 0.77062908\n",
            " 0.80412582 0.78104575 0.79411765 0.76021242 0.73488562 0.72406046\n",
            " 0.73999183 0.74979575 0.76143791 0.75428922 0.74754902 0.76960784\n",
            " 0.7495915  0.81719771 0.80208333 0.77736928 0.75714869 0.79370915\n",
            " 0.79166667 0.77144608 0.75265523 0.72691993 0.6629902  0.68198529\n",
            " 0.64419935 0.62152778 0.6439951  0.66319444 0.67544935 0.63705065\n",
            " 0.64603758 0.65890523 0.65870098 0.67790033 0.63194444 0.63112745\n",
            " 0.62785948 0.64767157 0.63991013 0.63480392 0.63868464 0.62336601\n",
            " 0.62745098 0.63970588 0.64705882 0.66196895 0.67075163 0.65196078\n",
            " 0.63112745 0.61294935 0.6376634  0.62254902 0.62745098 0.63337418\n",
            " 0.62642974 0.63623366 0.58312908 0.57781863 0.57230392 0.58006536\n",
            " 0.57618464 0.55167484 0.57883987 0.625      0.63582516 0.62949346\n",
            " 0.62888072 0.62765523 0.62234477 0.63378268 0.62622549 0.62214052\n",
            " 0.62418301 0.60670298 0.57861209 0.54944772 0.52462834 0.50413346\n",
            " 0.48666582 0.47132415 0.45781839 0.44615394]\n",
            "Day 9 output [[0.4363479]]\n",
            "Day 10 input [0.67892157 0.69138072 0.70894608 0.72263072 0.73406863 0.72120098\n",
            " 0.74979575 0.7689951  0.74468954 0.7120098  0.74673203 0.75490196\n",
            " 0.76041667 0.75980392 0.74652778 0.76245915 0.77062908 0.80412582\n",
            " 0.78104575 0.79411765 0.76021242 0.73488562 0.72406046 0.73999183\n",
            " 0.74979575 0.76143791 0.75428922 0.74754902 0.76960784 0.7495915\n",
            " 0.81719771 0.80208333 0.77736928 0.75714869 0.79370915 0.79166667\n",
            " 0.77144608 0.75265523 0.72691993 0.6629902  0.68198529 0.64419935\n",
            " 0.62152778 0.6439951  0.66319444 0.67544935 0.63705065 0.64603758\n",
            " 0.65890523 0.65870098 0.67790033 0.63194444 0.63112745 0.62785948\n",
            " 0.64767157 0.63991013 0.63480392 0.63868464 0.62336601 0.62745098\n",
            " 0.63970588 0.64705882 0.66196895 0.67075163 0.65196078 0.63112745\n",
            " 0.61294935 0.6376634  0.62254902 0.62745098 0.63337418 0.62642974\n",
            " 0.63623366 0.58312908 0.57781863 0.57230392 0.58006536 0.57618464\n",
            " 0.55167484 0.57883987 0.625      0.63582516 0.62949346 0.62888072\n",
            " 0.62765523 0.62234477 0.63378268 0.62622549 0.62214052 0.62418301\n",
            " 0.60670298 0.57861209 0.54944772 0.52462834 0.50413346 0.48666582\n",
            " 0.47132415 0.45781839 0.44615394 0.4363479 ]\n",
            "Day 10 output [[0.42831582]]\n",
            "Day 11 input [0.69138072 0.70894608 0.72263072 0.73406863 0.72120098 0.74979575\n",
            " 0.7689951  0.74468954 0.7120098  0.74673203 0.75490196 0.76041667\n",
            " 0.75980392 0.74652778 0.76245915 0.77062908 0.80412582 0.78104575\n",
            " 0.79411765 0.76021242 0.73488562 0.72406046 0.73999183 0.74979575\n",
            " 0.76143791 0.75428922 0.74754902 0.76960784 0.7495915  0.81719771\n",
            " 0.80208333 0.77736928 0.75714869 0.79370915 0.79166667 0.77144608\n",
            " 0.75265523 0.72691993 0.6629902  0.68198529 0.64419935 0.62152778\n",
            " 0.6439951  0.66319444 0.67544935 0.63705065 0.64603758 0.65890523\n",
            " 0.65870098 0.67790033 0.63194444 0.63112745 0.62785948 0.64767157\n",
            " 0.63991013 0.63480392 0.63868464 0.62336601 0.62745098 0.63970588\n",
            " 0.64705882 0.66196895 0.67075163 0.65196078 0.63112745 0.61294935\n",
            " 0.6376634  0.62254902 0.62745098 0.63337418 0.62642974 0.63623366\n",
            " 0.58312908 0.57781863 0.57230392 0.58006536 0.57618464 0.55167484\n",
            " 0.57883987 0.625      0.63582516 0.62949346 0.62888072 0.62765523\n",
            " 0.62234477 0.63378268 0.62622549 0.62214052 0.62418301 0.60670298\n",
            " 0.57861209 0.54944772 0.52462834 0.50413346 0.48666582 0.47132415\n",
            " 0.45781839 0.44615394 0.4363479  0.42831582]\n",
            "Day 11 output [[0.42187852]]\n",
            "Day 12 input [0.70894608 0.72263072 0.73406863 0.72120098 0.74979575 0.7689951\n",
            " 0.74468954 0.7120098  0.74673203 0.75490196 0.76041667 0.75980392\n",
            " 0.74652778 0.76245915 0.77062908 0.80412582 0.78104575 0.79411765\n",
            " 0.76021242 0.73488562 0.72406046 0.73999183 0.74979575 0.76143791\n",
            " 0.75428922 0.74754902 0.76960784 0.7495915  0.81719771 0.80208333\n",
            " 0.77736928 0.75714869 0.79370915 0.79166667 0.77144608 0.75265523\n",
            " 0.72691993 0.6629902  0.68198529 0.64419935 0.62152778 0.6439951\n",
            " 0.66319444 0.67544935 0.63705065 0.64603758 0.65890523 0.65870098\n",
            " 0.67790033 0.63194444 0.63112745 0.62785948 0.64767157 0.63991013\n",
            " 0.63480392 0.63868464 0.62336601 0.62745098 0.63970588 0.64705882\n",
            " 0.66196895 0.67075163 0.65196078 0.63112745 0.61294935 0.6376634\n",
            " 0.62254902 0.62745098 0.63337418 0.62642974 0.63623366 0.58312908\n",
            " 0.57781863 0.57230392 0.58006536 0.57618464 0.55167484 0.57883987\n",
            " 0.625      0.63582516 0.62949346 0.62888072 0.62765523 0.62234477\n",
            " 0.63378268 0.62622549 0.62214052 0.62418301 0.60670298 0.57861209\n",
            " 0.54944772 0.52462834 0.50413346 0.48666582 0.47132415 0.45781839\n",
            " 0.44615394 0.4363479  0.42831582 0.42187852]\n",
            "Day 12 output [[0.4168077]]\n",
            "Day 13 input [0.72263072 0.73406863 0.72120098 0.74979575 0.7689951  0.74468954\n",
            " 0.7120098  0.74673203 0.75490196 0.76041667 0.75980392 0.74652778\n",
            " 0.76245915 0.77062908 0.80412582 0.78104575 0.79411765 0.76021242\n",
            " 0.73488562 0.72406046 0.73999183 0.74979575 0.76143791 0.75428922\n",
            " 0.74754902 0.76960784 0.7495915  0.81719771 0.80208333 0.77736928\n",
            " 0.75714869 0.79370915 0.79166667 0.77144608 0.75265523 0.72691993\n",
            " 0.6629902  0.68198529 0.64419935 0.62152778 0.6439951  0.66319444\n",
            " 0.67544935 0.63705065 0.64603758 0.65890523 0.65870098 0.67790033\n",
            " 0.63194444 0.63112745 0.62785948 0.64767157 0.63991013 0.63480392\n",
            " 0.63868464 0.62336601 0.62745098 0.63970588 0.64705882 0.66196895\n",
            " 0.67075163 0.65196078 0.63112745 0.61294935 0.6376634  0.62254902\n",
            " 0.62745098 0.63337418 0.62642974 0.63623366 0.58312908 0.57781863\n",
            " 0.57230392 0.58006536 0.57618464 0.55167484 0.57883987 0.625\n",
            " 0.63582516 0.62949346 0.62888072 0.62765523 0.62234477 0.63378268\n",
            " 0.62622549 0.62214052 0.62418301 0.60670298 0.57861209 0.54944772\n",
            " 0.52462834 0.50413346 0.48666582 0.47132415 0.45781839 0.44615394\n",
            " 0.4363479  0.42831582 0.42187852 0.41680771]\n",
            "Day 13 output [[0.41286653]]\n",
            "Day 14 input [0.73406863 0.72120098 0.74979575 0.7689951  0.74468954 0.7120098\n",
            " 0.74673203 0.75490196 0.76041667 0.75980392 0.74652778 0.76245915\n",
            " 0.77062908 0.80412582 0.78104575 0.79411765 0.76021242 0.73488562\n",
            " 0.72406046 0.73999183 0.74979575 0.76143791 0.75428922 0.74754902\n",
            " 0.76960784 0.7495915  0.81719771 0.80208333 0.77736928 0.75714869\n",
            " 0.79370915 0.79166667 0.77144608 0.75265523 0.72691993 0.6629902\n",
            " 0.68198529 0.64419935 0.62152778 0.6439951  0.66319444 0.67544935\n",
            " 0.63705065 0.64603758 0.65890523 0.65870098 0.67790033 0.63194444\n",
            " 0.63112745 0.62785948 0.64767157 0.63991013 0.63480392 0.63868464\n",
            " 0.62336601 0.62745098 0.63970588 0.64705882 0.66196895 0.67075163\n",
            " 0.65196078 0.63112745 0.61294935 0.6376634  0.62254902 0.62745098\n",
            " 0.63337418 0.62642974 0.63623366 0.58312908 0.57781863 0.57230392\n",
            " 0.58006536 0.57618464 0.55167484 0.57883987 0.625      0.63582516\n",
            " 0.62949346 0.62888072 0.62765523 0.62234477 0.63378268 0.62622549\n",
            " 0.62214052 0.62418301 0.60670298 0.57861209 0.54944772 0.52462834\n",
            " 0.50413346 0.48666582 0.47132415 0.45781839 0.44615394 0.4363479\n",
            " 0.42831582 0.42187852 0.41680771 0.41286653]\n",
            "Day 14 output [[0.4098335]]\n",
            "Day 15 input [0.72120098 0.74979575 0.7689951  0.74468954 0.7120098  0.74673203\n",
            " 0.75490196 0.76041667 0.75980392 0.74652778 0.76245915 0.77062908\n",
            " 0.80412582 0.78104575 0.79411765 0.76021242 0.73488562 0.72406046\n",
            " 0.73999183 0.74979575 0.76143791 0.75428922 0.74754902 0.76960784\n",
            " 0.7495915  0.81719771 0.80208333 0.77736928 0.75714869 0.79370915\n",
            " 0.79166667 0.77144608 0.75265523 0.72691993 0.6629902  0.68198529\n",
            " 0.64419935 0.62152778 0.6439951  0.66319444 0.67544935 0.63705065\n",
            " 0.64603758 0.65890523 0.65870098 0.67790033 0.63194444 0.63112745\n",
            " 0.62785948 0.64767157 0.63991013 0.63480392 0.63868464 0.62336601\n",
            " 0.62745098 0.63970588 0.64705882 0.66196895 0.67075163 0.65196078\n",
            " 0.63112745 0.61294935 0.6376634  0.62254902 0.62745098 0.63337418\n",
            " 0.62642974 0.63623366 0.58312908 0.57781863 0.57230392 0.58006536\n",
            " 0.57618464 0.55167484 0.57883987 0.625      0.63582516 0.62949346\n",
            " 0.62888072 0.62765523 0.62234477 0.63378268 0.62622549 0.62214052\n",
            " 0.62418301 0.60670298 0.57861209 0.54944772 0.52462834 0.50413346\n",
            " 0.48666582 0.47132415 0.45781839 0.44615394 0.4363479  0.42831582\n",
            " 0.42187852 0.41680771 0.41286653 0.40983349]\n",
            "Day 15 output [[0.40751165]]\n",
            "Day 16 input [0.74979575 0.7689951  0.74468954 0.7120098  0.74673203 0.75490196\n",
            " 0.76041667 0.75980392 0.74652778 0.76245915 0.77062908 0.80412582\n",
            " 0.78104575 0.79411765 0.76021242 0.73488562 0.72406046 0.73999183\n",
            " 0.74979575 0.76143791 0.75428922 0.74754902 0.76960784 0.7495915\n",
            " 0.81719771 0.80208333 0.77736928 0.75714869 0.79370915 0.79166667\n",
            " 0.77144608 0.75265523 0.72691993 0.6629902  0.68198529 0.64419935\n",
            " 0.62152778 0.6439951  0.66319444 0.67544935 0.63705065 0.64603758\n",
            " 0.65890523 0.65870098 0.67790033 0.63194444 0.63112745 0.62785948\n",
            " 0.64767157 0.63991013 0.63480392 0.63868464 0.62336601 0.62745098\n",
            " 0.63970588 0.64705882 0.66196895 0.67075163 0.65196078 0.63112745\n",
            " 0.61294935 0.6376634  0.62254902 0.62745098 0.63337418 0.62642974\n",
            " 0.63623366 0.58312908 0.57781863 0.57230392 0.58006536 0.57618464\n",
            " 0.55167484 0.57883987 0.625      0.63582516 0.62949346 0.62888072\n",
            " 0.62765523 0.62234477 0.63378268 0.62622549 0.62214052 0.62418301\n",
            " 0.60670298 0.57861209 0.54944772 0.52462834 0.50413346 0.48666582\n",
            " 0.47132415 0.45781839 0.44615394 0.4363479  0.42831582 0.42187852\n",
            " 0.41680771 0.41286653 0.40983349 0.40751165]\n",
            "Day 16 output [[0.40573016]]\n",
            "Day 17 input [0.7689951  0.74468954 0.7120098  0.74673203 0.75490196 0.76041667\n",
            " 0.75980392 0.74652778 0.76245915 0.77062908 0.80412582 0.78104575\n",
            " 0.79411765 0.76021242 0.73488562 0.72406046 0.73999183 0.74979575\n",
            " 0.76143791 0.75428922 0.74754902 0.76960784 0.7495915  0.81719771\n",
            " 0.80208333 0.77736928 0.75714869 0.79370915 0.79166667 0.77144608\n",
            " 0.75265523 0.72691993 0.6629902  0.68198529 0.64419935 0.62152778\n",
            " 0.6439951  0.66319444 0.67544935 0.63705065 0.64603758 0.65890523\n",
            " 0.65870098 0.67790033 0.63194444 0.63112745 0.62785948 0.64767157\n",
            " 0.63991013 0.63480392 0.63868464 0.62336601 0.62745098 0.63970588\n",
            " 0.64705882 0.66196895 0.67075163 0.65196078 0.63112745 0.61294935\n",
            " 0.6376634  0.62254902 0.62745098 0.63337418 0.62642974 0.63623366\n",
            " 0.58312908 0.57781863 0.57230392 0.58006536 0.57618464 0.55167484\n",
            " 0.57883987 0.625      0.63582516 0.62949346 0.62888072 0.62765523\n",
            " 0.62234477 0.63378268 0.62622549 0.62214052 0.62418301 0.60670298\n",
            " 0.57861209 0.54944772 0.52462834 0.50413346 0.48666582 0.47132415\n",
            " 0.45781839 0.44615394 0.4363479  0.42831582 0.42187852 0.41680771\n",
            " 0.41286653 0.40983349 0.40751165 0.40573016]\n",
            "Day 17 output [[0.40434343]]\n",
            "Day 18 input [0.74468954 0.7120098  0.74673203 0.75490196 0.76041667 0.75980392\n",
            " 0.74652778 0.76245915 0.77062908 0.80412582 0.78104575 0.79411765\n",
            " 0.76021242 0.73488562 0.72406046 0.73999183 0.74979575 0.76143791\n",
            " 0.75428922 0.74754902 0.76960784 0.7495915  0.81719771 0.80208333\n",
            " 0.77736928 0.75714869 0.79370915 0.79166667 0.77144608 0.75265523\n",
            " 0.72691993 0.6629902  0.68198529 0.64419935 0.62152778 0.6439951\n",
            " 0.66319444 0.67544935 0.63705065 0.64603758 0.65890523 0.65870098\n",
            " 0.67790033 0.63194444 0.63112745 0.62785948 0.64767157 0.63991013\n",
            " 0.63480392 0.63868464 0.62336601 0.62745098 0.63970588 0.64705882\n",
            " 0.66196895 0.67075163 0.65196078 0.63112745 0.61294935 0.6376634\n",
            " 0.62254902 0.62745098 0.63337418 0.62642974 0.63623366 0.58312908\n",
            " 0.57781863 0.57230392 0.58006536 0.57618464 0.55167484 0.57883987\n",
            " 0.625      0.63582516 0.62949346 0.62888072 0.62765523 0.62234477\n",
            " 0.63378268 0.62622549 0.62214052 0.62418301 0.60670298 0.57861209\n",
            " 0.54944772 0.52462834 0.50413346 0.48666582 0.47132415 0.45781839\n",
            " 0.44615394 0.4363479  0.42831582 0.42187852 0.41680771 0.41286653\n",
            " 0.40983349 0.40751165 0.40573016 0.40434343]\n",
            "Day 18 output [[0.40322864]]\n",
            "Day 19 input [0.7120098  0.74673203 0.75490196 0.76041667 0.75980392 0.74652778\n",
            " 0.76245915 0.77062908 0.80412582 0.78104575 0.79411765 0.76021242\n",
            " 0.73488562 0.72406046 0.73999183 0.74979575 0.76143791 0.75428922\n",
            " 0.74754902 0.76960784 0.7495915  0.81719771 0.80208333 0.77736928\n",
            " 0.75714869 0.79370915 0.79166667 0.77144608 0.75265523 0.72691993\n",
            " 0.6629902  0.68198529 0.64419935 0.62152778 0.6439951  0.66319444\n",
            " 0.67544935 0.63705065 0.64603758 0.65890523 0.65870098 0.67790033\n",
            " 0.63194444 0.63112745 0.62785948 0.64767157 0.63991013 0.63480392\n",
            " 0.63868464 0.62336601 0.62745098 0.63970588 0.64705882 0.66196895\n",
            " 0.67075163 0.65196078 0.63112745 0.61294935 0.6376634  0.62254902\n",
            " 0.62745098 0.63337418 0.62642974 0.63623366 0.58312908 0.57781863\n",
            " 0.57230392 0.58006536 0.57618464 0.55167484 0.57883987 0.625\n",
            " 0.63582516 0.62949346 0.62888072 0.62765523 0.62234477 0.63378268\n",
            " 0.62622549 0.62214052 0.62418301 0.60670298 0.57861209 0.54944772\n",
            " 0.52462834 0.50413346 0.48666582 0.47132415 0.45781839 0.44615394\n",
            " 0.4363479  0.42831582 0.42187852 0.41680771 0.41286653 0.40983349\n",
            " 0.40751165 0.40573016 0.40434343 0.40322864]\n",
            "Day 19 output [[0.40228367]]\n",
            "Day 20 input [0.74673203 0.75490196 0.76041667 0.75980392 0.74652778 0.76245915\n",
            " 0.77062908 0.80412582 0.78104575 0.79411765 0.76021242 0.73488562\n",
            " 0.72406046 0.73999183 0.74979575 0.76143791 0.75428922 0.74754902\n",
            " 0.76960784 0.7495915  0.81719771 0.80208333 0.77736928 0.75714869\n",
            " 0.79370915 0.79166667 0.77144608 0.75265523 0.72691993 0.6629902\n",
            " 0.68198529 0.64419935 0.62152778 0.6439951  0.66319444 0.67544935\n",
            " 0.63705065 0.64603758 0.65890523 0.65870098 0.67790033 0.63194444\n",
            " 0.63112745 0.62785948 0.64767157 0.63991013 0.63480392 0.63868464\n",
            " 0.62336601 0.62745098 0.63970588 0.64705882 0.66196895 0.67075163\n",
            " 0.65196078 0.63112745 0.61294935 0.6376634  0.62254902 0.62745098\n",
            " 0.63337418 0.62642974 0.63623366 0.58312908 0.57781863 0.57230392\n",
            " 0.58006536 0.57618464 0.55167484 0.57883987 0.625      0.63582516\n",
            " 0.62949346 0.62888072 0.62765523 0.62234477 0.63378268 0.62622549\n",
            " 0.62214052 0.62418301 0.60670298 0.57861209 0.54944772 0.52462834\n",
            " 0.50413346 0.48666582 0.47132415 0.45781839 0.44615394 0.4363479\n",
            " 0.42831582 0.42187852 0.41680771 0.41286653 0.40983349 0.40751165\n",
            " 0.40573016 0.40434343 0.40322864 0.40228367]\n",
            "Day 20 output [[0.40142587]]\n",
            "Day 21 input [0.75490196 0.76041667 0.75980392 0.74652778 0.76245915 0.77062908\n",
            " 0.80412582 0.78104575 0.79411765 0.76021242 0.73488562 0.72406046\n",
            " 0.73999183 0.74979575 0.76143791 0.75428922 0.74754902 0.76960784\n",
            " 0.7495915  0.81719771 0.80208333 0.77736928 0.75714869 0.79370915\n",
            " 0.79166667 0.77144608 0.75265523 0.72691993 0.6629902  0.68198529\n",
            " 0.64419935 0.62152778 0.6439951  0.66319444 0.67544935 0.63705065\n",
            " 0.64603758 0.65890523 0.65870098 0.67790033 0.63194444 0.63112745\n",
            " 0.62785948 0.64767157 0.63991013 0.63480392 0.63868464 0.62336601\n",
            " 0.62745098 0.63970588 0.64705882 0.66196895 0.67075163 0.65196078\n",
            " 0.63112745 0.61294935 0.6376634  0.62254902 0.62745098 0.63337418\n",
            " 0.62642974 0.63623366 0.58312908 0.57781863 0.57230392 0.58006536\n",
            " 0.57618464 0.55167484 0.57883987 0.625      0.63582516 0.62949346\n",
            " 0.62888072 0.62765523 0.62234477 0.63378268 0.62622549 0.62214052\n",
            " 0.62418301 0.60670298 0.57861209 0.54944772 0.52462834 0.50413346\n",
            " 0.48666582 0.47132415 0.45781839 0.44615394 0.4363479  0.42831582\n",
            " 0.42187852 0.41680771 0.41286653 0.40983349 0.40751165 0.40573016\n",
            " 0.40434343 0.40322864 0.40228367 0.40142587]\n",
            "Day 21 output [[0.4005895]]\n",
            "Day 22 input [0.76041667 0.75980392 0.74652778 0.76245915 0.77062908 0.80412582\n",
            " 0.78104575 0.79411765 0.76021242 0.73488562 0.72406046 0.73999183\n",
            " 0.74979575 0.76143791 0.75428922 0.74754902 0.76960784 0.7495915\n",
            " 0.81719771 0.80208333 0.77736928 0.75714869 0.79370915 0.79166667\n",
            " 0.77144608 0.75265523 0.72691993 0.6629902  0.68198529 0.64419935\n",
            " 0.62152778 0.6439951  0.66319444 0.67544935 0.63705065 0.64603758\n",
            " 0.65890523 0.65870098 0.67790033 0.63194444 0.63112745 0.62785948\n",
            " 0.64767157 0.63991013 0.63480392 0.63868464 0.62336601 0.62745098\n",
            " 0.63970588 0.64705882 0.66196895 0.67075163 0.65196078 0.63112745\n",
            " 0.61294935 0.6376634  0.62254902 0.62745098 0.63337418 0.62642974\n",
            " 0.63623366 0.58312908 0.57781863 0.57230392 0.58006536 0.57618464\n",
            " 0.55167484 0.57883987 0.625      0.63582516 0.62949346 0.62888072\n",
            " 0.62765523 0.62234477 0.63378268 0.62622549 0.62214052 0.62418301\n",
            " 0.60670298 0.57861209 0.54944772 0.52462834 0.50413346 0.48666582\n",
            " 0.47132415 0.45781839 0.44615394 0.4363479  0.42831582 0.42187852\n",
            " 0.41680771 0.41286653 0.40983349 0.40751165 0.40573016 0.40434343\n",
            " 0.40322864 0.40228367 0.40142587 0.4005895 ]\n",
            "Day 22 output [[0.39972457]]\n",
            "Day 23 input [0.75980392 0.74652778 0.76245915 0.77062908 0.80412582 0.78104575\n",
            " 0.79411765 0.76021242 0.73488562 0.72406046 0.73999183 0.74979575\n",
            " 0.76143791 0.75428922 0.74754902 0.76960784 0.7495915  0.81719771\n",
            " 0.80208333 0.77736928 0.75714869 0.79370915 0.79166667 0.77144608\n",
            " 0.75265523 0.72691993 0.6629902  0.68198529 0.64419935 0.62152778\n",
            " 0.6439951  0.66319444 0.67544935 0.63705065 0.64603758 0.65890523\n",
            " 0.65870098 0.67790033 0.63194444 0.63112745 0.62785948 0.64767157\n",
            " 0.63991013 0.63480392 0.63868464 0.62336601 0.62745098 0.63970588\n",
            " 0.64705882 0.66196895 0.67075163 0.65196078 0.63112745 0.61294935\n",
            " 0.6376634  0.62254902 0.62745098 0.63337418 0.62642974 0.63623366\n",
            " 0.58312908 0.57781863 0.57230392 0.58006536 0.57618464 0.55167484\n",
            " 0.57883987 0.625      0.63582516 0.62949346 0.62888072 0.62765523\n",
            " 0.62234477 0.63378268 0.62622549 0.62214052 0.62418301 0.60670298\n",
            " 0.57861209 0.54944772 0.52462834 0.50413346 0.48666582 0.47132415\n",
            " 0.45781839 0.44615394 0.4363479  0.42831582 0.42187852 0.41680771\n",
            " 0.41286653 0.40983349 0.40751165 0.40573016 0.40434343 0.40322864\n",
            " 0.40228367 0.40142587 0.4005895  0.39972457]\n",
            "Day 23 output [[0.3987955]]\n",
            "Day 24 input [0.74652778 0.76245915 0.77062908 0.80412582 0.78104575 0.79411765\n",
            " 0.76021242 0.73488562 0.72406046 0.73999183 0.74979575 0.76143791\n",
            " 0.75428922 0.74754902 0.76960784 0.7495915  0.81719771 0.80208333\n",
            " 0.77736928 0.75714869 0.79370915 0.79166667 0.77144608 0.75265523\n",
            " 0.72691993 0.6629902  0.68198529 0.64419935 0.62152778 0.6439951\n",
            " 0.66319444 0.67544935 0.63705065 0.64603758 0.65890523 0.65870098\n",
            " 0.67790033 0.63194444 0.63112745 0.62785948 0.64767157 0.63991013\n",
            " 0.63480392 0.63868464 0.62336601 0.62745098 0.63970588 0.64705882\n",
            " 0.66196895 0.67075163 0.65196078 0.63112745 0.61294935 0.6376634\n",
            " 0.62254902 0.62745098 0.63337418 0.62642974 0.63623366 0.58312908\n",
            " 0.57781863 0.57230392 0.58006536 0.57618464 0.55167484 0.57883987\n",
            " 0.625      0.63582516 0.62949346 0.62888072 0.62765523 0.62234477\n",
            " 0.63378268 0.62622549 0.62214052 0.62418301 0.60670298 0.57861209\n",
            " 0.54944772 0.52462834 0.50413346 0.48666582 0.47132415 0.45781839\n",
            " 0.44615394 0.4363479  0.42831582 0.42187852 0.41680771 0.41286653\n",
            " 0.40983349 0.40751165 0.40573016 0.40434343 0.40322864 0.40228367\n",
            " 0.40142587 0.4005895  0.39972457 0.39879549]\n",
            "Day 24 output [[0.3977785]]\n",
            "Day 25 input [0.76245915 0.77062908 0.80412582 0.78104575 0.79411765 0.76021242\n",
            " 0.73488562 0.72406046 0.73999183 0.74979575 0.76143791 0.75428922\n",
            " 0.74754902 0.76960784 0.7495915  0.81719771 0.80208333 0.77736928\n",
            " 0.75714869 0.79370915 0.79166667 0.77144608 0.75265523 0.72691993\n",
            " 0.6629902  0.68198529 0.64419935 0.62152778 0.6439951  0.66319444\n",
            " 0.67544935 0.63705065 0.64603758 0.65890523 0.65870098 0.67790033\n",
            " 0.63194444 0.63112745 0.62785948 0.64767157 0.63991013 0.63480392\n",
            " 0.63868464 0.62336601 0.62745098 0.63970588 0.64705882 0.66196895\n",
            " 0.67075163 0.65196078 0.63112745 0.61294935 0.6376634  0.62254902\n",
            " 0.62745098 0.63337418 0.62642974 0.63623366 0.58312908 0.57781863\n",
            " 0.57230392 0.58006536 0.57618464 0.55167484 0.57883987 0.625\n",
            " 0.63582516 0.62949346 0.62888072 0.62765523 0.62234477 0.63378268\n",
            " 0.62622549 0.62214052 0.62418301 0.60670298 0.57861209 0.54944772\n",
            " 0.52462834 0.50413346 0.48666582 0.47132415 0.45781839 0.44615394\n",
            " 0.4363479  0.42831582 0.42187852 0.41680771 0.41286653 0.40983349\n",
            " 0.40751165 0.40573016 0.40434343 0.40322864 0.40228367 0.40142587\n",
            " 0.4005895  0.39972457 0.39879549 0.39777851]\n",
            "Day 25 output [[0.39666]]\n",
            "Day 26 input [0.77062908 0.80412582 0.78104575 0.79411765 0.76021242 0.73488562\n",
            " 0.72406046 0.73999183 0.74979575 0.76143791 0.75428922 0.74754902\n",
            " 0.76960784 0.7495915  0.81719771 0.80208333 0.77736928 0.75714869\n",
            " 0.79370915 0.79166667 0.77144608 0.75265523 0.72691993 0.6629902\n",
            " 0.68198529 0.64419935 0.62152778 0.6439951  0.66319444 0.67544935\n",
            " 0.63705065 0.64603758 0.65890523 0.65870098 0.67790033 0.63194444\n",
            " 0.63112745 0.62785948 0.64767157 0.63991013 0.63480392 0.63868464\n",
            " 0.62336601 0.62745098 0.63970588 0.64705882 0.66196895 0.67075163\n",
            " 0.65196078 0.63112745 0.61294935 0.6376634  0.62254902 0.62745098\n",
            " 0.63337418 0.62642974 0.63623366 0.58312908 0.57781863 0.57230392\n",
            " 0.58006536 0.57618464 0.55167484 0.57883987 0.625      0.63582516\n",
            " 0.62949346 0.62888072 0.62765523 0.62234477 0.63378268 0.62622549\n",
            " 0.62214052 0.62418301 0.60670298 0.57861209 0.54944772 0.52462834\n",
            " 0.50413346 0.48666582 0.47132415 0.45781839 0.44615394 0.4363479\n",
            " 0.42831582 0.42187852 0.41680771 0.41286653 0.40983349 0.40751165\n",
            " 0.40573016 0.40434343 0.40322864 0.40228367 0.40142587 0.4005895\n",
            " 0.39972457 0.39879549 0.39777851 0.39666   ]\n",
            "Day 26 output [[0.395435]]\n",
            "Day 27 input [0.80412582 0.78104575 0.79411765 0.76021242 0.73488562 0.72406046\n",
            " 0.73999183 0.74979575 0.76143791 0.75428922 0.74754902 0.76960784\n",
            " 0.7495915  0.81719771 0.80208333 0.77736928 0.75714869 0.79370915\n",
            " 0.79166667 0.77144608 0.75265523 0.72691993 0.6629902  0.68198529\n",
            " 0.64419935 0.62152778 0.6439951  0.66319444 0.67544935 0.63705065\n",
            " 0.64603758 0.65890523 0.65870098 0.67790033 0.63194444 0.63112745\n",
            " 0.62785948 0.64767157 0.63991013 0.63480392 0.63868464 0.62336601\n",
            " 0.62745098 0.63970588 0.64705882 0.66196895 0.67075163 0.65196078\n",
            " 0.63112745 0.61294935 0.6376634  0.62254902 0.62745098 0.63337418\n",
            " 0.62642974 0.63623366 0.58312908 0.57781863 0.57230392 0.58006536\n",
            " 0.57618464 0.55167484 0.57883987 0.625      0.63582516 0.62949346\n",
            " 0.62888072 0.62765523 0.62234477 0.63378268 0.62622549 0.62214052\n",
            " 0.62418301 0.60670298 0.57861209 0.54944772 0.52462834 0.50413346\n",
            " 0.48666582 0.47132415 0.45781839 0.44615394 0.4363479  0.42831582\n",
            " 0.42187852 0.41680771 0.41286653 0.40983349 0.40751165 0.40573016\n",
            " 0.40434343 0.40322864 0.40228367 0.40142587 0.4005895  0.39972457\n",
            " 0.39879549 0.39777851 0.39666    0.39543501]\n",
            "Day 27 output [[0.39410576]]\n",
            "Day 28 input [0.78104575 0.79411765 0.76021242 0.73488562 0.72406046 0.73999183\n",
            " 0.74979575 0.76143791 0.75428922 0.74754902 0.76960784 0.7495915\n",
            " 0.81719771 0.80208333 0.77736928 0.75714869 0.79370915 0.79166667\n",
            " 0.77144608 0.75265523 0.72691993 0.6629902  0.68198529 0.64419935\n",
            " 0.62152778 0.6439951  0.66319444 0.67544935 0.63705065 0.64603758\n",
            " 0.65890523 0.65870098 0.67790033 0.63194444 0.63112745 0.62785948\n",
            " 0.64767157 0.63991013 0.63480392 0.63868464 0.62336601 0.62745098\n",
            " 0.63970588 0.64705882 0.66196895 0.67075163 0.65196078 0.63112745\n",
            " 0.61294935 0.6376634  0.62254902 0.62745098 0.63337418 0.62642974\n",
            " 0.63623366 0.58312908 0.57781863 0.57230392 0.58006536 0.57618464\n",
            " 0.55167484 0.57883987 0.625      0.63582516 0.62949346 0.62888072\n",
            " 0.62765523 0.62234477 0.63378268 0.62622549 0.62214052 0.62418301\n",
            " 0.60670298 0.57861209 0.54944772 0.52462834 0.50413346 0.48666582\n",
            " 0.47132415 0.45781839 0.44615394 0.4363479  0.42831582 0.42187852\n",
            " 0.41680771 0.41286653 0.40983349 0.40751165 0.40573016 0.40434343\n",
            " 0.40322864 0.40228367 0.40142587 0.4005895  0.39972457 0.39879549\n",
            " 0.39777851 0.39666    0.39543501 0.39410576]\n",
            "Day 28 output [[0.39268023]]\n",
            "Day 29 input [0.79411765 0.76021242 0.73488562 0.72406046 0.73999183 0.74979575\n",
            " 0.76143791 0.75428922 0.74754902 0.76960784 0.7495915  0.81719771\n",
            " 0.80208333 0.77736928 0.75714869 0.79370915 0.79166667 0.77144608\n",
            " 0.75265523 0.72691993 0.6629902  0.68198529 0.64419935 0.62152778\n",
            " 0.6439951  0.66319444 0.67544935 0.63705065 0.64603758 0.65890523\n",
            " 0.65870098 0.67790033 0.63194444 0.63112745 0.62785948 0.64767157\n",
            " 0.63991013 0.63480392 0.63868464 0.62336601 0.62745098 0.63970588\n",
            " 0.64705882 0.66196895 0.67075163 0.65196078 0.63112745 0.61294935\n",
            " 0.6376634  0.62254902 0.62745098 0.63337418 0.62642974 0.63623366\n",
            " 0.58312908 0.57781863 0.57230392 0.58006536 0.57618464 0.55167484\n",
            " 0.57883987 0.625      0.63582516 0.62949346 0.62888072 0.62765523\n",
            " 0.62234477 0.63378268 0.62622549 0.62214052 0.62418301 0.60670298\n",
            " 0.57861209 0.54944772 0.52462834 0.50413346 0.48666582 0.47132415\n",
            " 0.45781839 0.44615394 0.4363479  0.42831582 0.42187852 0.41680771\n",
            " 0.41286653 0.40983349 0.40751165 0.40573016 0.40434343 0.40322864\n",
            " 0.40228367 0.40142587 0.4005895  0.39972457 0.39879549 0.39777851\n",
            " 0.39666    0.39543501 0.39410576 0.39268023]\n",
            "Day 29 output [[0.3911698]]\n",
            "[[0.606702983379364], [0.5786120891571045], [0.5494477152824402], [0.5246283411979675], [0.5041334629058838], [0.486665815114975], [0.4713241457939148], [0.4578183889389038], [0.4461539387702942], [0.4363479018211365], [0.42831581830978394], [0.42187851667404175], [0.41680771112442017], [0.4128665328025818], [0.40983349084854126], [0.4075116515159607], [0.40573015809059143], [0.4043434262275696], [0.40322864055633545], [0.4022836685180664], [0.40142586827278137], [0.4005894958972931], [0.3997245728969574], [0.398795485496521], [0.3977785110473633], [0.3966600000858307], [0.39543500542640686], [0.3941057622432709], [0.39268022775650024], [0.39116978645324707]]\n"
          ]
        }
      ]
    },
    {
      "cell_type": "markdown",
      "source": [
        "### Plotting the predicted data of 30 days in future"
      ],
      "metadata": {
        "id": "8-_2NzZOoYCY"
      }
    },
    {
      "cell_type": "code",
      "source": [
        "new_day = np.arange(1, 101)\n",
        "pred_day = np.arange(101, 131)"
      ],
      "metadata": {
        "id": "CYhAgm6sdXPS"
      },
      "execution_count": null,
      "outputs": []
    },
    {
      "cell_type": "code",
      "source": [
        "len(df)"
      ],
      "metadata": {
        "colab": {
          "base_uri": "https://localhost:8080/"
        },
        "id": "cAbKaEhpdbY1",
        "outputId": "10368ab9-6615-4503-83d3-25ad5322c74a"
      },
      "execution_count": null,
      "outputs": [
        {
          "output_type": "execute_result",
          "data": {
            "text/plain": [
              "2035"
            ]
          },
          "metadata": {},
          "execution_count": 55
        }
      ]
    },
    {
      "cell_type": "code",
      "source": [
        "plt.figure(figsize=(18, 7))\n",
        "plt.plot(new_day, sc.inverse_transform(df[1935:]), label=\"Existing data\")\n",
        "plt.plot(pred_day, sc.inverse_transform(output), label=\"Predicted Data\")\n",
        "plt.legend(loc=\"upper left\")\n",
        "plt.show()"
      ],
      "metadata": {
        "colab": {
          "base_uri": "https://localhost:8080/",
          "height": 399
        },
        "id": "elwq-p1Jddq-",
        "outputId": "875d5f98-ceb3-46c0-dd3d-53a4cf98ae69"
      },
      "execution_count": null,
      "outputs": [
        {
          "output_type": "display_data",
          "data": {
            "image/png": "[encoded data removed]",
            "text/plain": [
              "<Figure size 1296x504 with 1 Axes>"
            ]
          },
          "metadata": {
            "needs_background": "light"
          }
        }
      ]
    }
  ]
}