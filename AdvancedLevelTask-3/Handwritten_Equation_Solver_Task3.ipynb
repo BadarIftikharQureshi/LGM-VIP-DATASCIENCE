{
  "nbformat": 4,
  "nbformat_minor": 0,
  "metadata": {
    "colab": {
      "name": "Handwritten Equation Solver_Task3.ipynb",
      "provenance": [],
      "collapsed_sections": [],
      "toc_visible": true
    },
    "kernelspec": {
      "name": "python3",
      "display_name": "Python 3"
    },
    "language_info": {
      "name": "python"
    }
  },
  "cells": [
    {
      "cell_type": "markdown",
      "source": [
        "# Author : BADAR IFTIKHAR\n",
        "### LETSGROWMORE  \n",
        "### LGM VIP JANUARY-2022\n",
        "### ADVANCED LEVEL TASK 3\n",
        "### TASK 3 PROJECT :\n",
        "### Handwritten Equation Solver"
      ],
      "metadata": {
        "id": "Tnsh3-IxPOqT"
      }
    },
    {
      "cell_type": "markdown",
      "source": [
        "# Handwritten Equation Solver"
      ],
      "metadata": {
        "id": "PguKZHDoPN_O"
      }
    },
    {
      "cell_type": "markdown",
      "source": [
        "### Importing the Libraries"
      ],
      "metadata": {
        "id": "6nV2CbNqPOiL"
      }
    },
    {
      "cell_type": "code",
      "source": [
        "import pandas as pd\n",
        "import numpy as np\n",
        "import matplotlib.pyplot as plt\n",
        "import cv2\n",
        "import os\n",
        "from os import listdir\n",
        "from os.path import isfile,join\n",
        "from PIL import Image         "
      ],
      "metadata": {
        "id": "e-0b59frif-t"
      },
      "execution_count": null,
      "outputs": []
    },
    {
      "cell_type": "markdown",
      "source": [
        "### Loading and Preparing the Data"
      ],
      "metadata": {
        "id": "kM-fOoxtPOl4"
      }
    },
    {
      "cell_type": "code",
      "source": [
        "def load_image_from_folder(folder):\n",
        "    train_data=[]\n",
        "    for filename in os.listdir(folder):\n",
        "        img=cv2.imread(os.path.join(folder,filename),cv2.IMREAD_GRAYSCALE)\n",
        "        img=~img\n",
        "        if img is not None:\n",
        "            _,thresh=cv2.threshold(img,127,255,cv2.THRESH_BINARY)\n",
        "            ctrs=cv2.findContours(thresh,cv2.RETR_EXTERNAL,cv2.CHAIN_APPROX_NONE)[0]\n",
        "            cnt=sorted(ctrs,key=lambda ctr:cv2.boundingRect(ctr))\n",
        "            w=int(28)\n",
        "            h=int(28)\n",
        "            maxi=0\n",
        "            for c in cnt:\n",
        "                x,y,w,h= cv2.boundingRect(c)\n",
        "                maxi=max(w*h,maxi)\n",
        "                if maxi==w*h:\n",
        "                    x_max=x\n",
        "                    y_max=y\n",
        "                    w_max=w\n",
        "                    h_max=h\n",
        "            im_crop=thresh[y_max:y_max+h_max+10,x_max:x_max+w_max+10]\n",
        "            im_resize=cv2.resize(im_crop,(28,28))\n",
        "            im_resize=np.reshape(im_resize,(784,1))\n",
        "            train_data.append(im_resize)\n",
        "    return train_data"
      ],
      "metadata": {
        "id": "K_Gex74UigCB"
      },
      "execution_count": null,
      "outputs": []
    },
    {
      "cell_type": "code",
      "source": [
        "data=[]"
      ],
      "metadata": {
        "id": "8WcJOquJigGY"
      },
      "execution_count": null,
      "outputs": []
    },
    {
      "cell_type": "code",
      "source": [
        "data=load_image_from_folder(/content/-_100009.jpg)\n",
        "len(data)\n",
        "for i in range(0,len(data)):\n",
        "    data[i]=np.append(data[i],[\"10\"])\n",
        "print(len(data))"
      ],
      "metadata": {
        "colab": {
          "base_uri": "https://localhost:8080/",
          "height": 130
        },
        "id": "qE8t3rbBigJT",
        "outputId": "c2c1e0cc-7ddb-4ee5-e04e-b93f9e07211c"
      },
      "execution_count": null,
      "outputs": [
        {
          "output_type": "error",
          "ename": "SyntaxError",
          "evalue": "ignored",
          "traceback": [
            "\u001b[0;36m  File \u001b[0;32m\"<ipython-input-14-9d39d97abedc>\"\u001b[0;36m, line \u001b[0;32m1\u001b[0m\n\u001b[0;31m    data=load_image_from_folder(/content/-_100009.jpg)\u001b[0m\n\u001b[0m                                ^\u001b[0m\n\u001b[0;31mSyntaxError\u001b[0m\u001b[0;31m:\u001b[0m invalid syntax\n"
          ]
        }
      ]
    },
    {
      "cell_type": "code",
      "source": [
        "data0=load_image_from_folder(\"C:/Handwritten Equation Solver using CNN/extracted_images/+\")\n",
        "len(data0)\n",
        "for i in range(0,len(data0)):\n",
        "    data0[i]=np.append(data0[i],[\"11\"])\n",
        "data=np.concatenate((data,data0))\n",
        "print(len(data))"
      ],
      "metadata": {
        "id": "GiVVdg6yigMP"
      },
      "execution_count": null,
      "outputs": []
    },
    {
      "cell_type": "code",
      "source": [
        "data2=load_image_from_folder(r\"C:/Handwritten Equation Solver using CNN/extracted_images/0\")\n",
        "len(data2)\n",
        "for i in range(0,len(data2)):\n",
        "    data2[i]=np.append(data2[i],[\"0\"])\n",
        "data=np.concatenate((data,data2))\n",
        "print(len(data))"
      ],
      "metadata": {
        "id": "L9QbaFWtigPT"
      },
      "execution_count": null,
      "outputs": []
    },
    {
      "cell_type": "code",
      "source": [
        "data3=load_image_from_folder(r\"C:/Handwritten Equation Solver using CNN/extracted_images/1\")\n",
        "len(data3)\n",
        "for i in range(0,len(data3)):\n",
        "    data3[i]=np.append(data3[i],[\"1\"])\n",
        "data=np.concatenate((data,data3))\n",
        "print(len(data))"
      ],
      "metadata": {
        "id": "l8JWbhmxigTL"
      },
      "execution_count": null,
      "outputs": []
    },
    {
      "cell_type": "code",
      "source": [
        "data4=load_image_from_folder(r\"C:/Handwritten Equation Solver using CNN/extracted_images/2\")\n",
        "len(data4)\n",
        "for i in range(0,len(data4)):\n",
        "    data4[i]=np.append(data4[i],[\"2\"])\n",
        "data=np.concatenate((data,data4))\n",
        "print(len(data))"
      ],
      "metadata": {
        "id": "QT6Ank9uigWB"
      },
      "execution_count": null,
      "outputs": []
    },
    {
      "cell_type": "code",
      "source": [
        "data5=load_image_from_folder(r\"C:/Handwritten Equation Solver using CNN/extracted_images/3\")\n",
        "len(data5)\n",
        "for i in range(0,len(data5)):\n",
        "    data5[i]=np.append(data5[i],[\"3\"])\n",
        "data=np.concatenate((data,data5))\n",
        "print(len(data))"
      ],
      "metadata": {
        "id": "U5VmyLy_igZf"
      },
      "execution_count": null,
      "outputs": []
    },
    {
      "cell_type": "code",
      "source": [
        "data6=load_image_from_folder(r\"C:/Handwritten Equation Solver using CNN/extracted_images/4\")\n",
        "len(data6)\n",
        "for i in range(0,len(data6)):\n",
        "    data6[i]=np.append(data6[i],[\"4\"])\n",
        "data=np.concatenate((data,data6))\n",
        "print(len(data))"
      ],
      "metadata": {
        "id": "M-eDkyt7igdf"
      },
      "execution_count": null,
      "outputs": []
    },
    {
      "cell_type": "code",
      "source": [
        "data7=load_image_from_folder(r\"C:/Handwritten Equation Solver using CNN/extracted_images/5\")\n",
        "len(data7)\n",
        "for i in range(0,len(data7)):\n",
        "    data7[i]=np.append(data7[i],[\"5\"])\n",
        "data=np.concatenate((data,data7))\n",
        "print(len(data))"
      ],
      "metadata": {
        "id": "vYHUfv4Digf6"
      },
      "execution_count": null,
      "outputs": []
    },
    {
      "cell_type": "code",
      "source": [
        "data8=load_image_from_folder(r\"C:/Handwritten Equation Solver using CNN/extracted_images/6\")\n",
        "len(data8)\n",
        "for i in range(0,len(data8)):\n",
        "    data8[i]=np.append(data8[i],[\"6\"])\n",
        "data=np.concatenate((data,data8))\n",
        "print(len(data))"
      ],
      "metadata": {
        "id": "jNfEGbXiigjl"
      },
      "execution_count": null,
      "outputs": []
    },
    {
      "cell_type": "code",
      "source": [
        "data9=load_image_from_folder(r\"C:/Handwritten Equation Solver using CNN/extracted_images/7\")\n",
        "len(data9)\n",
        "for i in range(0,len(data9)):\n",
        "    data9[i]=np.append(data9[i],[\"7\"])\n",
        "data=np.concatenate((data,data9))\n",
        "print(len(data))"
      ],
      "metadata": {
        "id": "ruDGtEOqignS"
      },
      "execution_count": null,
      "outputs": []
    },
    {
      "cell_type": "code",
      "source": [
        "data10=load_image_from_folder(r\"C:/Handwritten Equation Solver using CNN/extracted_images/8\")\n",
        "len(data10)\n",
        "for i in range(0,len(data10)):\n",
        "    data10[i]=np.append(data10[i],[\"8\"])\n",
        "data=np.concatenate((data,data10))\n",
        "print(len(data))"
      ],
      "metadata": {
        "id": "Lw6dplxnl9CI"
      },
      "execution_count": null,
      "outputs": []
    },
    {
      "cell_type": "code",
      "source": [
        "data11=load_image_from_folder(r\"C:/Handwritten Equation Solver using CNN/extracted_images/9\")\n",
        "len(data11)\n",
        "for i in range(0,len(data11)):\n",
        "    data11[i]=np.append(data11[i],[\"9\"])\n",
        "data=np.concatenate((data,data11))\n",
        "print(len(data))"
      ],
      "metadata": {
        "id": "G6vEWdyNl9LT"
      },
      "execution_count": null,
      "outputs": []
    },
    {
      "cell_type": "code",
      "source": [
        "data12=load_image_from_folder(r\"C:/Handwritten Equation Solver using CNN/extracted_images/times\")\n",
        "len(data12)\n",
        "for i in range(0,len(data12)):\n",
        "    data12[i]=np.append(data12[i],[\"12\"])\n",
        "data=np.concatenate((data,data12))\n",
        "print(len(data))"
      ],
      "metadata": {
        "id": "pybYsMbJl9Si"
      },
      "execution_count": null,
      "outputs": []
    },
    {
      "cell_type": "markdown",
      "source": [
        "### Converting Dataframe to csv file"
      ],
      "metadata": {
        "id": "-8byqTm1QRxx"
      }
    },
    {
      "cell_type": "code",
      "source": [
        "df = pd.DataFrame(data, index=None)\n",
        "df.to_csv('train_final.csv', index=False )"
      ],
      "metadata": {
        "id": "Ra4i31Ysl-F9"
      },
      "execution_count": null,
      "outputs": []
    },
    {
      "cell_type": "markdown",
      "source": [
        "### Training the Model"
      ],
      "metadata": {
        "id": "5QrdRpnVQXrf"
      }
    },
    {
      "cell_type": "code",
      "source": [
        "df_train = pd.read_csv('train_final.csv', index_col=False)\n",
        "df_train.head()"
      ],
      "metadata": {
        "id": "yZUUSb29l-LC"
      },
      "execution_count": null,
      "outputs": []
    },
    {
      "cell_type": "markdown",
      "source": [
        "### Dropping the Column"
      ],
      "metadata": {
        "id": "kcCx8xWCQf0V"
      }
    },
    {
      "cell_type": "code",
      "source": [
        "labels=df_train[\"784\"]\n",
        "df_train.drop(df_train.columns[[784]],axis=1,inplace=True)\n",
        "df_train.head()"
      ],
      "metadata": {
        "id": "W33ekOD9igq1"
      },
      "execution_count": null,
      "outputs": []
    },
    {
      "cell_type": "markdown",
      "source": [
        "### Building CNN Model"
      ],
      "metadata": {
        "id": "H_SIQINxQls-"
      }
    },
    {
      "cell_type": "code",
      "source": [
        "np.random.seed(1212)\n",
        "from keras.layers import *\n",
        "from keras import optimizers\n",
        "from keras.layers import Input,Dense,Flatten,Dropout\n",
        "from keras.models import Sequential\n",
        "from keras.layers.convolutional import Conv2D,MaxPooling2D\n",
        "from keras.utils import np_utils"
      ],
      "metadata": {
        "id": "y63hOQNymUwS"
      },
      "execution_count": null,
      "outputs": []
    },
    {
      "cell_type": "code",
      "source": [
        "labels=np.array(labels)"
      ],
      "metadata": {
        "id": "D-6JLM_TmU2H"
      },
      "execution_count": null,
      "outputs": []
    },
    {
      "cell_type": "code",
      "source": [
        "from keras.utils.np_utils import to_categorical\n",
        "cat=to_categorical(labels,num_classes=13)"
      ],
      "metadata": {
        "id": "BRwQiX1tmVj2"
      },
      "execution_count": null,
      "outputs": []
    },
    {
      "cell_type": "code",
      "source": [
        "df_train.head()"
      ],
      "metadata": {
        "id": "eKk6jViciguB"
      },
      "execution_count": null,
      "outputs": []
    },
    {
      "cell_type": "markdown",
      "source": [
        "### Storing Images in Array"
      ],
      "metadata": {
        "id": "kMlmQKv1QpAa"
      }
    },
    {
      "cell_type": "code",
      "source": [
        "l=[] \n",
        "for i in range(156617): \n",
        "    l.append(np.array(df_train[i:i+1]).reshape(28,28,1))"
      ],
      "metadata": {
        "id": "oTGcgK2BigyN"
      },
      "execution_count": null,
      "outputs": []
    },
    {
      "cell_type": "code",
      "source": [
        "np.random.seed(7)\n",
        "model= Sequential()\n",
        "model.add(Conv2D(30,(5,5),input_shape=(28,28,1),activation='relu'))\n",
        "model.add(MaxPooling2D(pool_size=(2,2)))\n",
        "model.add(Conv2D(15,(3,3),activation='relu'))\n",
        "model.add(MaxPooling2D(pool_size=(2,2)))\n",
        "model.add(Dropout(0.2))\n",
        "model.add(Flatten())\n",
        "model.add(Dense(128,activation='relu'))\n",
        "model.add(Dense(50,activation='relu'))\n",
        "model.add(Dense(13,activation='softmax'))"
      ],
      "metadata": {
        "id": "VqBiXbcsmnkQ"
      },
      "execution_count": null,
      "outputs": []
    },
    {
      "cell_type": "code",
      "source": [
        "model.summary()"
      ],
      "metadata": {
        "id": "ZPkdPCmlmn1-"
      },
      "execution_count": null,
      "outputs": []
    },
    {
      "cell_type": "markdown",
      "source": [
        "### Compiling the Model"
      ],
      "metadata": {
        "id": "ZThA3wByQzqr"
      }
    },
    {
      "cell_type": "code",
      "source": [
        "model.compile(loss='categorical_crossentropy',optimizer='adam',metrics=['accuracy'])"
      ],
      "metadata": {
        "id": "do0Y4DvLmn_t"
      },
      "execution_count": null,
      "outputs": []
    },
    {
      "cell_type": "markdown",
      "source": [
        "### Fitting the Model"
      ],
      "metadata": {
        "id": "DZxy-DbEQ6sx"
      }
    },
    {
      "cell_type": "code",
      "source": [
        "model.fit(np.array(l), cat, shuffle=True, epochs=7)"
      ],
      "metadata": {
        "id": "vXylKK7cmpE7"
      },
      "execution_count": null,
      "outputs": []
    },
    {
      "cell_type": "code",
      "source": [
        "import cv2\n",
        "img=cv2.imread(\"C:/Handwritten Equation Solver using CNN/equation.jpg\",cv2.IMREAD_GRAYSCALE)\n",
        "cv2.imshow(\"w\",img)\n",
        "cv2.waitKey(0)\n",
        "cv2.destroyAllWindows()\n",
        "if img is not None:\n",
        "    img=~img\n",
        "    _,thresh=cv2.threshold(img,127,255,cv2.THRESH_BINARY)\n",
        "    ctrs=cv2.findContours(thresh,cv2.RETR_TREE,cv2.CHAIN_APPROX_SIMPLE)[0]\n",
        "    cnt=sorted(ctrs,key=lambda ctr:cv2.boundingRect(ctr)[0])\n",
        "    w=int(28)\n",
        "    h=int(28)\n",
        "    train_data=[]\n",
        "    rects=[]\n",
        "    for c in cnt:\n",
        "        x,y,w,h=cv2.boundingRect(c);\n",
        "        rect=[x,y,w,h]\n",
        "        rects.append(rect)\n",
        "    print(\"rects\",rects)\n",
        "    bool_rect=[]\n",
        "    for r in rects:\n",
        "        l=[]\n",
        "        for rec in rects:  \n",
        "            flag=0\n",
        "            if rec != r:\n",
        "                if r[0]<(rec[0]+rec[2]+10) and rec[0]<(r[0]+r[2]+10) and r[1]<(rec[1]+rec[3]+10) and rec[1]>(r[1]+r[3]+10):\n",
        "                    flag=1\n",
        "                l.append(flag)\n",
        "                      \n",
        "            if rec==r:\n",
        "                l.append(0)\n",
        "        bool_rect.append(l)\n",
        "    print(\"bool\",bool_rect)\n",
        "    dump_rect=[]\n",
        "    for i in range(0,len(cnt)):\n",
        "        for j in range(0,len(cnt)):\n",
        "            if(bool_rect[i][j]==1):\n",
        "                area1=rects[i][2]*rects[i][3]\n",
        "                area2=rects[j][2]*rects[j][3]\n",
        "                            #take rect with maximum area\n",
        "\n",
        "                if(area1==min(area1,area2)):\n",
        "                    dump_rect.append(rects[i])\n",
        "    print(\"dump\",dump_rect)\n",
        "                #all final rects excluding dump\n",
        "    final_rect=[i for i in rects if i not in dump_rect]\n",
        "    print(\"final\",final_rect)\n",
        "    for r in final_rect:\n",
        "        x=r[0]\n",
        "        y=r[1]\n",
        "        w=r[2]\n",
        "        h=r[3]\n",
        "        im_crop=thresh[y:y+h+20,x:x+w+20]\n",
        "        im_resize=cv2.resize(im_crop,(28,28))\n",
        "        cv2.imshow(\"work\",im_resize)\n",
        "        cv2.waitKey(0)\n",
        "        cv2.destroyAllWindows()\n",
        "        train_data.append(im_resize)"
      ],
      "metadata": {
        "id": "xQCNVtRumpK4"
      },
      "execution_count": null,
      "outputs": []
    },
    {
      "cell_type": "markdown",
      "source": [
        "### Prediction"
      ],
      "metadata": {
        "id": "ozLlp3JDQ-27"
      }
    },
    {
      "cell_type": "code",
      "source": [
        "s=\"\"\n",
        "for i in range(0,len(train_data)):\n",
        "    train_data[i]=np.array(train_data[i])\n",
        "    train_data[i]=train_data[i].reshape((1,28,28,1))\n",
        "    result=model.predict_classes(train_data[i])\n",
        "    if(result[0]==10):\n",
        "        s=s+'-'\n",
        "    if(result[0]==11):\n",
        "        s=s+'+'\n",
        "    if(result[0]==12):\n",
        "        s=s+'*'\n",
        "    if(result[0]==0):\n",
        "        s=s+'0'\n",
        "    if(result[0]==1):\n",
        "        s=s+'1'\n",
        "    if(result[0]==2):\n",
        "        s=s+'2'\n",
        "    if(result[0]==3):\n",
        "        s=s+'3'\n",
        "    if(result[0]==4):\n",
        "        s=s+'4' \n",
        "    if(result[0]==5):\n",
        "        s=s+'5'\n",
        "    if(result[0]==6):\n",
        "        s=s+'6'\n",
        "    if(result[0]==7):\n",
        "        s=s+'7'\n",
        "    if(result[0]==8):\n",
        "        s=s+'8'\n",
        "    if(result[0]==9):\n",
        "        s=s+'9'\n",
        "print(s)"
      ],
      "metadata": {
        "id": "iCWjOCfQnEip"
      },
      "execution_count": null,
      "outputs": []
    },
    {
      "cell_type": "code",
      "source": [
        "eval(s)"
      ],
      "metadata": {
        "id": "p5c4vzzpnEnv"
      },
      "execution_count": null,
      "outputs": []
    }
  ]
}